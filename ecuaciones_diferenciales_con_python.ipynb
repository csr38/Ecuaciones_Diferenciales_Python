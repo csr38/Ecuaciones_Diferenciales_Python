{
  "cells": [
    {
      "cell_type": "markdown",
      "metadata": {
        "id": "KtQG7dSANgPL"
      },
      "source": [
        "# **Ecuaciones diferecniales con Python**\n",
        "\n"
      ]
    },
    {
      "cell_type": "code",
      "execution_count": null,
      "metadata": {
        "id": "qiTZpNduNYNp"
      },
      "outputs": [],
      "source": [
        "# importando modulos necesarios\n",
        "%matplotlib inline\n",
        "\n",
        "import matplotlib.pyplot as plt\n",
        "import numpy as np\n",
        "import sympy\n",
        "from scipy import integrate\n",
        "from IPython.core.display import HTML\n",
        "# imprimir con notación matemática.\n",
        "sympy.init_printing(use_latex='mathjax')\n",
        "\n",
        "# Imprimir línea vacía para espaciar fórmulas\n",
        "def lin():\n",
        "  print('\\n') # imprime línea vacía"
      ]
    },
    {
      "cell_type": "code",
      "execution_count": null,
      "metadata": {
        "id": "LLLTX6nqN2Zl",
        "colab": {
          "base_uri": "https://localhost:8080/",
          "height": 460
        },
        "outputId": "996d98f7-13e5-447c-987f-b3659e710e12"
      },
      "outputs": [
        {
          "output_type": "stream",
          "name": "stderr",
          "text": [
            "/usr/local/lib/python3.7/dist-packages/IPython/core/display.py:701: UserWarning: Consider using IPython.display.IFrame instead\n",
            "  warnings.warn(\"Consider using IPython.display.IFrame instead\")\n"
          ]
        },
        {
          "output_type": "execute_result",
          "data": {
            "text/plain": [
              "<IPython.core.display.HTML object>"
            ],
            "text/html": [
              "<iframe src=\"https://www.wolframalpha.com/input?i=L%28d%5E2q%2Fdt%5E2%29%2BR%28dq%2Fdt%29%2Bq%2Fc%3D0&lang=es\" width=\"1000\" height=\"400\"></iframe>"
            ]
          },
          "metadata": {},
          "execution_count": 2
        }
      ],
      "source": [
        "HTML('<iframe src=\"https://www.wolframalpha.com/input?i=L%28d%5E2q%2Fdt%5E2%29%2BR%28dq%2Fdt%29%2Bq%2Fc%3D0&lang=es\" width=\"1000\" height=\"400\"></iframe>')"
      ]
    },
    {
      "cell_type": "markdown",
      "metadata": {
        "id": "FA1tqUmGA8F2"
      },
      "source": [
        "\n",
        "\n",
        "1.   Clasificar cada una de las siguientes ecuaciones diferenciales como ordinarias o en derivadas parciales. Dterminar el orden y la linealidad o no linealidad en cada caso.\n",
        "\n"
      ]
    },
    {
      "cell_type": "code",
      "execution_count": null,
      "metadata": {
        "id": "MfFs-oNf6DEO"
      },
      "outputs": [],
      "source": [
        "def clasificacion(f, x , f_primer=0):\n",
        "  display(f)\n",
        "  lin()\n",
        "  try:\n",
        "    display(sympy.classify_ode(f_primer))\n",
        "    display(sympy.ode_order(f, x))\n",
        "    display(\"Ecuacion en Derivadas Parciales \")\n",
        "  except:\n",
        "    display(sympy.classify_ode(f))\n",
        "    display(sympy.ode_order(f, x))\n",
        "    display(\"Ecuacion Diferencial Ordinaria\")\n"
      ]
    },
    {
      "cell_type": "markdown",
      "metadata": {
        "id": "EAAIa9Td0NZb"
      },
      "source": [
        "(a) $$y'+t^2y=te^t$$"
      ]
    },
    {
      "cell_type": "code",
      "execution_count": null,
      "metadata": {
        "id": "O9n3VmAddWAu",
        "colab": {
          "base_uri": "https://localhost:8080/",
          "height": 299
        },
        "outputId": "d6245d1f-e0de-4d74-9147-1e456ae4ced3"
      },
      "outputs": [
        {
          "output_type": "display_data",
          "data": {
            "text/plain": [
              " 2        d             t\n",
              "t ⋅y(t) + ──(y(t)) = t⋅ℯ \n",
              "          dt             "
            ],
            "text/latex": "$\\displaystyle t^{2} y{\\left(t \\right)} + \\frac{d}{d t} y{\\left(t \\right)} = t e^{t}$"
          },
          "metadata": {}
        },
        {
          "output_type": "stream",
          "name": "stdout",
          "text": [
            "\n",
            "\n"
          ]
        },
        {
          "output_type": "display_data",
          "data": {
            "text/plain": [
              "('1st_exact',\n",
              " '1st_linear',\n",
              " 'Bernoulli',\n",
              " 'almost_linear',\n",
              " '1st_power_series',\n",
              " 'lie_group',\n",
              " '1st_exact_Integral',\n",
              " '1st_linear_Integral',\n",
              " 'Bernoulli_Integral',\n",
              " 'almost_linear_Integral')"
            ]
          },
          "metadata": {}
        },
        {
          "output_type": "display_data",
          "data": {
            "text/plain": [
              "1"
            ],
            "text/latex": "$\\displaystyle 1$"
          },
          "metadata": {}
        },
        {
          "output_type": "display_data",
          "data": {
            "text/plain": [
              "'Ecuacion Diferencial Ordinaria'"
            ],
            "application/vnd.google.colaboratory.intrinsic+json": {
              "type": "string"
            }
          },
          "metadata": {}
        }
      ],
      "source": [
        "# defino las incognitas\n",
        "t = sympy.Symbol('t')\n",
        "y = sympy.Function('y')\n",
        "# expreso la ecuacion\n",
        "eq= sympy.Eq(y(t).diff(t)+t**2*y(t), t*sympy.exp(t))\n",
        "\n",
        "clasificacion(eq, y(t))\n"
      ]
    },
    {
      "cell_type": "markdown",
      "metadata": {
        "id": "YeaYlOT-0b85"
      },
      "source": [
        "(b)$$y'''+4y''-5y'+3y=sent$$"
      ]
    },
    {
      "cell_type": "code",
      "execution_count": null,
      "metadata": {
        "id": "qFvyR_vd_bQm",
        "colab": {
          "base_uri": "https://localhost:8080/",
          "height": 179
        },
        "outputId": "b37cfd37-43ce-4b26-c2c2-b1127963ee9a"
      },
      "outputs": [
        {
          "output_type": "display_data",
          "data": {
            "text/plain": [
              "                          2           3               \n",
              "           d             d           d                \n",
              "3⋅y(t) - 5⋅──(y(t)) + 4⋅───(y(t)) + ───(y(t)) = sin(t)\n",
              "           dt             2           3               \n",
              "                        dt          dt                "
            ],
            "text/latex": "$\\displaystyle 3 y{\\left(t \\right)} - 5 \\frac{d}{d t} y{\\left(t \\right)} + 4 \\frac{d^{2}}{d t^{2}} y{\\left(t \\right)} + \\frac{d^{3}}{d t^{3}} y{\\left(t \\right)} = \\sin{\\left(t \\right)}$"
          },
          "metadata": {}
        },
        {
          "output_type": "stream",
          "name": "stdout",
          "text": [
            "\n",
            "\n"
          ]
        },
        {
          "output_type": "display_data",
          "data": {
            "text/plain": [
              "('nth_linear_constant_coeff_undetermined_coefficients',\n",
              " 'nth_linear_constant_coeff_variation_of_parameters',\n",
              " 'nth_linear_constant_coeff_variation_of_parameters_Integral')"
            ]
          },
          "metadata": {}
        },
        {
          "output_type": "display_data",
          "data": {
            "text/plain": [
              "3"
            ],
            "text/latex": "$\\displaystyle 3$"
          },
          "metadata": {}
        },
        {
          "output_type": "display_data",
          "data": {
            "text/plain": [
              "'Ecuacion Diferencial Ordinaria'"
            ],
            "application/vnd.google.colaboratory.intrinsic+json": {
              "type": "string"
            }
          },
          "metadata": {}
        }
      ],
      "source": [
        "# defino las incognitas\n",
        "t = sympy.Symbol('t')\n",
        "y = sympy.Function('y')\n",
        "\n",
        "# expreso la ecuacion\n",
        "eq = sympy.Eq(y(t).diff(t,3)+4*y(t).diff(t,2)-5*y(t).diff(t)+3*y(t), sympy.sin(t))\n",
        "\n",
        "clasificacion(eq, y(t))"
      ]
    },
    {
      "cell_type": "markdown",
      "metadata": {
        "id": "pnsQQoat0mRy"
      },
      "source": [
        "(c)$$\\frac{∂^2u}{∂x^2}+\\frac{∂^2u}{∂y^2}=0$$\n",
        "\n",
        "\n"
      ]
    },
    {
      "cell_type": "code",
      "execution_count": null,
      "metadata": {
        "id": "dyMuNLx2ABGy",
        "colab": {
          "base_uri": "https://localhost:8080/",
          "height": 148
        },
        "outputId": "d8497b05-f2fd-4acb-ab86-8e2c0aa634d4"
      },
      "outputs": [
        {
          "output_type": "display_data",
          "data": {
            "text/plain": [
              "  2              2             \n",
              " ∂              ∂              \n",
              "───(u(x, y)) + ───(u(x, y)) = 0\n",
              "  2              2             \n",
              "∂x             ∂y              "
            ],
            "text/latex": "$\\displaystyle \\frac{\\partial^{2}}{\\partial x^{2}} u{\\left(x,y \\right)} + \\frac{\\partial^{2}}{\\partial y^{2}} u{\\left(x,y \\right)} = 0$"
          },
          "metadata": {}
        },
        {
          "output_type": "stream",
          "name": "stdout",
          "text": [
            "\n",
            "\n"
          ]
        },
        {
          "output_type": "display_data",
          "data": {
            "text/plain": [
              "('nth_algebraic', 'nth_algebraic_Integral')"
            ]
          },
          "metadata": {}
        },
        {
          "output_type": "display_data",
          "data": {
            "text/plain": [
              "2"
            ],
            "text/latex": "$\\displaystyle 2$"
          },
          "metadata": {}
        },
        {
          "output_type": "display_data",
          "data": {
            "text/plain": [
              "'Ecuacion en Derivadas Parciales '"
            ],
            "application/vnd.google.colaboratory.intrinsic+json": {
              "type": "string"
            }
          },
          "metadata": {}
        }
      ],
      "source": [
        "# defino las incognitas\n",
        "x = sympy.Symbol('x')\n",
        "y = sympy.Symbol('y')\n",
        "u = sympy.Function('u')\n",
        "# expreso la ecuacion\n",
        "eq = sympy.Eq(u(x,y).diff(x,2)+u(x,y).diff(y,2), 0)\n",
        "\n",
        "eq_2 = sympy.Eq(u(x,y).diff(x)+u(x,y).diff(y), 0)\n",
        "\n",
        "clasificacion(eq, u(x,y), eq_2)"
      ]
    },
    {
      "cell_type": "markdown",
      "metadata": {
        "id": "KOmy1k7s1ZQJ"
      },
      "source": [
        "(d)$$t^2dy+y^2dt=0$$"
      ]
    },
    {
      "cell_type": "code",
      "execution_count": null,
      "metadata": {
        "id": "49jZSyPJVCyH",
        "colab": {
          "base_uri": "https://localhost:8080/",
          "height": 148
        },
        "outputId": "45f7393f-b597-4a40-8d41-988cbd5c755c"
      },
      "outputs": [
        {
          "output_type": "display_data",
          "data": {
            "text/plain": [
              "  2              2             \n",
              " ∂              ∂              \n",
              "───(u(x, y)) + ───(u(x, y)) = 0\n",
              "  2              2             \n",
              "∂x             ∂y              "
            ],
            "text/latex": "$\\displaystyle \\frac{\\partial^{2}}{\\partial x^{2}} u{\\left(x,y \\right)} + \\frac{\\partial^{2}}{\\partial y^{2}} u{\\left(x,y \\right)} = 0$"
          },
          "metadata": {}
        },
        {
          "output_type": "stream",
          "name": "stdout",
          "text": [
            "\n",
            "\n"
          ]
        },
        {
          "output_type": "display_data",
          "data": {
            "text/plain": [
              "('nth_algebraic', 'nth_algebraic_Integral')"
            ]
          },
          "metadata": {}
        },
        {
          "output_type": "display_data",
          "data": {
            "text/plain": [
              "0"
            ],
            "text/latex": "$\\displaystyle 0$"
          },
          "metadata": {}
        },
        {
          "output_type": "display_data",
          "data": {
            "text/plain": [
              "'Ecuacion Diferencial Ordinaria'"
            ],
            "application/vnd.google.colaboratory.intrinsic+json": {
              "type": "string"
            }
          },
          "metadata": {}
        }
      ],
      "source": [
        "# defino las incognitas\n",
        "t = sympy.Symbol('t')\n",
        "\n",
        "y = sympy.Function('y')\n",
        "# expreso la ecuacion\n",
        "\n",
        "sympy.Eq(-y(t).diff(t)/y(t)**2,1/t**2)\n",
        "\n",
        "clasificacion(eq, y(t))\n"
      ]
    },
    {
      "cell_type": "markdown",
      "metadata": {
        "id": "qI-udqZz6JPv"
      },
      "source": [
        "(e)$$\\frac{dy}{dt}+3(\\frac{d^2y}{dt^2})^5+5y=0$$\n"
      ]
    },
    {
      "cell_type": "code",
      "execution_count": null,
      "metadata": {
        "id": "2vmW32mo5UT0",
        "colab": {
          "base_uri": "https://localhost:8080/",
          "height": 156
        },
        "outputId": "59276e7e-6f83-466e-a58a-f9544cd36c11"
      },
      "outputs": [
        {
          "output_type": "display_data",
          "data": {
            "text/plain": [
              "                                 5    \n",
              "                      ⎛  2      ⎞     \n",
              "         d            ⎜ d       ⎟     \n",
              "5⋅y(t) + ──(y(t)) + 3⋅⎜───(y(t))⎟  = 0\n",
              "         dt           ⎜  2      ⎟     \n",
              "                      ⎝dt       ⎠     "
            ],
            "text/latex": "$\\displaystyle 5 y{\\left(t \\right)} + \\frac{d}{d t} y{\\left(t \\right)} + 3 \\left(\\frac{d^{2}}{d t^{2}} y{\\left(t \\right)}\\right)^{5} = 0$"
          },
          "metadata": {}
        },
        {
          "output_type": "stream",
          "name": "stdout",
          "text": [
            "\n",
            "\n"
          ]
        },
        {
          "output_type": "display_data",
          "data": {
            "text/plain": [
              "()"
            ],
            "text/latex": "$\\displaystyle \\left( \\right)$"
          },
          "metadata": {}
        },
        {
          "output_type": "display_data",
          "data": {
            "text/plain": [
              "2"
            ],
            "text/latex": "$\\displaystyle 2$"
          },
          "metadata": {}
        },
        {
          "output_type": "display_data",
          "data": {
            "text/plain": [
              "'Ecuacion Diferencial Ordinaria'"
            ],
            "application/vnd.google.colaboratory.intrinsic+json": {
              "type": "string"
            }
          },
          "metadata": {}
        }
      ],
      "source": [
        "# defino las incognitas\n",
        "t = sympy.Symbol('t')\n",
        "y = sympy.Function('y')\n",
        "# expreso la ecuacion\n",
        "\n",
        "eq = sympy.Eq(y(t).diff(t)+3*(y(t).diff(t,2))**5+5*y(t),0)\n",
        "\n",
        "clasificacion(eq, y(t))"
      ]
    },
    {
      "cell_type": "markdown",
      "metadata": {
        "id": "FZ65r1c_6m45"
      },
      "source": [
        "(f)$$\\frac{∂^4u}{∂x^2∂y^2}+\\frac{∂^2u}{∂x^2}+\\frac{∂^2u}{∂y^2}+u=0$$"
      ]
    },
    {
      "cell_type": "code",
      "execution_count": null,
      "metadata": {
        "id": "IyiWlzuGje1f",
        "colab": {
          "base_uri": "https://localhost:8080/",
          "height": 200
        },
        "outputId": "324c8697-97d6-45a2-e2c9-330556288178"
      },
      "outputs": [
        {
          "output_type": "display_data",
          "data": {
            "text/plain": [
              "            2              2                4               \n",
              "           ∂              ∂                ∂                \n",
              "u(x, y) + ───(u(x, y)) + ───(u(x, y)) + ───────(u(x, y)) = 0\n",
              "            2              2              2   2             \n",
              "          ∂x             ∂y             ∂y  ∂x              "
            ],
            "text/latex": "$\\displaystyle u{\\left(x,y \\right)} + \\frac{\\partial^{2}}{\\partial x^{2}} u{\\left(x,y \\right)} + \\frac{\\partial^{2}}{\\partial y^{2}} u{\\left(x,y \\right)} + \\frac{\\partial^{4}}{\\partial y^{2}\\partial x^{2}} u{\\left(x,y \\right)} = 0$"
          },
          "metadata": {}
        },
        {
          "output_type": "stream",
          "name": "stdout",
          "text": [
            "\n",
            "\n"
          ]
        },
        {
          "output_type": "display_data",
          "data": {
            "text/plain": [
              "('nth_algebraic',\n",
              " 'almost_linear',\n",
              " 'nth_algebraic_Integral',\n",
              " 'almost_linear_Integral')"
            ]
          },
          "metadata": {}
        },
        {
          "output_type": "display_data",
          "data": {
            "text/plain": [
              "4"
            ],
            "text/latex": "$\\displaystyle 4$"
          },
          "metadata": {}
        },
        {
          "output_type": "display_data",
          "data": {
            "text/plain": [
              "'Ecuacion en Derivadas Parciales '"
            ],
            "application/vnd.google.colaboratory.intrinsic+json": {
              "type": "string"
            }
          },
          "metadata": {}
        }
      ],
      "source": [
        "# defino las incognitas\n",
        "x = sympy.Symbol('x')\n",
        "y = sympy.Symbol('y')\n",
        "u = sympy.Function('u')\n",
        "# expreso la ecuacion\n",
        "\n",
        "eq = sympy.Eq(u(x,y).diff(x,2,y,2)+u(x,y).diff(x,2)+u(x,y).diff(y,2)+u(x,y), 0)\n",
        "eq_2 = sympy.Eq(u(x,y).diff(x)+u(x,y).diff(x)+u(x,y).diff(y)+u(x), 0)\n",
        "\n",
        "clasificacion(eq, u(x,y), eq_2)"
      ]
    },
    {
      "cell_type": "markdown",
      "metadata": {
        "id": "GB3FWQxU7r-A"
      },
      "source": [
        "(g)$$y''+ysent=0$$"
      ]
    },
    {
      "cell_type": "code",
      "execution_count": null,
      "metadata": {
        "id": "hd_jNO0E7v7q",
        "colab": {
          "base_uri": "https://localhost:8080/",
          "height": 145
        },
        "outputId": "74a212a2-4c2b-47d8-f671-0d156901df99"
      },
      "outputs": [
        {
          "output_type": "display_data",
          "data": {
            "text/plain": [
              "                2          \n",
              "               d           \n",
              "y(t)⋅sin(t) + ───(y(t)) = 0\n",
              "                2          \n",
              "              dt           "
            ],
            "text/latex": "$\\displaystyle y{\\left(t \\right)} \\sin{\\left(t \\right)} + \\frac{d^{2}}{d t^{2}} y{\\left(t \\right)} = 0$"
          },
          "metadata": {}
        },
        {
          "output_type": "stream",
          "name": "stdout",
          "text": [
            "\n",
            "\n"
          ]
        },
        {
          "output_type": "display_data",
          "data": {
            "text/plain": [
              "('2nd_power_series_ordinary',)"
            ]
          },
          "metadata": {}
        },
        {
          "output_type": "display_data",
          "data": {
            "text/plain": [
              "2"
            ],
            "text/latex": "$\\displaystyle 2$"
          },
          "metadata": {}
        },
        {
          "output_type": "display_data",
          "data": {
            "text/plain": [
              "'Ecuacion Diferencial Ordinaria'"
            ],
            "application/vnd.google.colaboratory.intrinsic+json": {
              "type": "string"
            }
          },
          "metadata": {}
        }
      ],
      "source": [
        "# defino las incognitas\n",
        "t = sympy.Symbol('t')\n",
        "y = sympy.Function('y')\n",
        "# expreso la ecuacion\n",
        "eq=sympy.Eq(y(t).diff(t,2)+y(t)*sympy.sin(t), 0)\n",
        "\n",
        "clasificacion(eq, y(t))\n",
        "\n"
      ]
    },
    {
      "cell_type": "markdown",
      "metadata": {
        "id": "tyXbDZWl97Ni"
      },
      "source": [
        "(h)$$(\\frac{dr}{ds})^3=\\sqrt{\\frac{d^2r}{ds^2}+1}$$"
      ]
    },
    {
      "cell_type": "code",
      "execution_count": null,
      "metadata": {
        "id": "UdYZEo3j-tHS",
        "colab": {
          "base_uri": "https://localhost:8080/",
          "height": 153
        },
        "outputId": "3363c2cb-d75b-4c0f-fcd6-003dc6ee6e7b"
      },
      "outputs": [
        {
          "output_type": "display_data",
          "data": {
            "text/plain": [
              "                    _______________\n",
              "          3        ╱   2           \n",
              "⎛d       ⎞        ╱   d            \n",
              "⎜──(r(s))⎟  =    ╱   ───(r(s)) + 1 \n",
              "⎝ds      ⎠      ╱      2           \n",
              "              ╲╱     ds            "
            ],
            "text/latex": "$\\displaystyle \\left(\\frac{d}{d s} r{\\left(s \\right)}\\right)^{3} = \\sqrt{\\frac{d^{2}}{d s^{2}} r{\\left(s \\right)} + 1}$"
          },
          "metadata": {}
        },
        {
          "output_type": "stream",
          "name": "stdout",
          "text": [
            "\n",
            "\n"
          ]
        },
        {
          "output_type": "display_data",
          "data": {
            "text/plain": [
              "('factorable', 'nth_order_reducible')"
            ]
          },
          "metadata": {}
        },
        {
          "output_type": "display_data",
          "data": {
            "text/plain": [
              "2"
            ],
            "text/latex": "$\\displaystyle 2$"
          },
          "metadata": {}
        },
        {
          "output_type": "display_data",
          "data": {
            "text/plain": [
              "'Ecuacion Diferencial Ordinaria'"
            ],
            "application/vnd.google.colaboratory.intrinsic+json": {
              "type": "string"
            }
          },
          "metadata": {}
        }
      ],
      "source": [
        "\n",
        "# defino las incognitas\n",
        "s = sympy.Symbol('s')\n",
        "r = sympy.Function('r')\n",
        "# expreso la ecuacion\n",
        "\n",
        "eq = sympy.Eq(r(s).diff(s)**3, sympy.sqrt(r(s).diff(s,2)+1))\n",
        "clasificacion(eq, r(s))\n"
      ]
    },
    {
      "cell_type": "markdown",
      "metadata": {
        "id": "L5r-rKYt2z5m"
      },
      "source": [
        "(i)$$\\frac{d^2y}{dt^2}+tseny=0$$"
      ]
    },
    {
      "cell_type": "code",
      "execution_count": null,
      "metadata": {
        "id": "p61we0kI3mDa",
        "colab": {
          "base_uri": "https://localhost:8080/",
          "height": 148
        },
        "outputId": "39b3d2e5-2cf6-4d99-ba88-3592b052b283"
      },
      "outputs": [
        {
          "output_type": "display_data",
          "data": {
            "text/plain": [
              "                2          \n",
              "               d           \n",
              "t⋅sin(y(t)) + ───(y(t)) = 0\n",
              "                2          \n",
              "              dt           "
            ],
            "text/latex": "$\\displaystyle t \\sin{\\left(y{\\left(t \\right)} \\right)} + \\frac{d^{2}}{d t^{2}} y{\\left(t \\right)} = 0$"
          },
          "metadata": {}
        },
        {
          "output_type": "stream",
          "name": "stdout",
          "text": [
            "\n",
            "\n"
          ]
        },
        {
          "output_type": "display_data",
          "data": {
            "text/plain": [
              "()"
            ],
            "text/latex": "$\\displaystyle \\left( \\right)$"
          },
          "metadata": {}
        },
        {
          "output_type": "display_data",
          "data": {
            "text/plain": [
              "2"
            ],
            "text/latex": "$\\displaystyle 2$"
          },
          "metadata": {}
        },
        {
          "output_type": "display_data",
          "data": {
            "text/plain": [
              "'Ecuacion Diferencial Ordinaria'"
            ],
            "application/vnd.google.colaboratory.intrinsic+json": {
              "type": "string"
            }
          },
          "metadata": {}
        }
      ],
      "source": [
        "# defino las incognitas\n",
        "t = sympy.Symbol('t')\n",
        "y = sympy.Function('y')\n",
        "# expreso la ecuacion\n",
        "\n",
        "eq = sympy.Eq(y(t).diff(t,2)+t*sympy.sin(y(t)),  0)\n",
        "\n",
        "clasificacion(eq, y(t))"
      ]
    },
    {
      "cell_type": "markdown",
      "metadata": {
        "id": "b7K2ibB56PPH"
      },
      "source": [
        "(j)$$L\\frac{d^2q}{dt^2}+R\\frac{dq}{dt}+\\frac{q}{c}=0$$"
      ]
    },
    {
      "cell_type": "code",
      "execution_count": null,
      "metadata": {
        "id": "riQZxB0M6vqv",
        "colab": {
          "base_uri": "https://localhost:8080/",
          "height": 145
        },
        "outputId": "2fe90bfb-582a-45ef-c15a-de0ba51651e0"
      },
      "outputs": [
        {
          "output_type": "display_data",
          "data": {
            "text/plain": [
              "    2                              \n",
              "   d            d          q(t)    \n",
              "L⋅───(q(t)) + R⋅──(q(t)) + ──── = 0\n",
              "    2           dt          c      \n",
              "  dt                               "
            ],
            "text/latex": "$\\displaystyle L \\frac{d^{2}}{d t^{2}} q{\\left(t \\right)} + R \\frac{d}{d t} q{\\left(t \\right)} + \\frac{q{\\left(t \\right)}}{c} = 0$"
          },
          "metadata": {}
        },
        {
          "output_type": "stream",
          "name": "stdout",
          "text": [
            "\n",
            "\n"
          ]
        },
        {
          "output_type": "display_data",
          "data": {
            "text/plain": [
              "('nth_linear_constant_coeff_homogeneous', '2nd_power_series_ordinary')"
            ]
          },
          "metadata": {}
        },
        {
          "output_type": "display_data",
          "data": {
            "text/plain": [
              "2"
            ],
            "text/latex": "$\\displaystyle 2$"
          },
          "metadata": {}
        },
        {
          "output_type": "display_data",
          "data": {
            "text/plain": [
              "'Ecuacion Diferencial Ordinaria'"
            ],
            "application/vnd.google.colaboratory.intrinsic+json": {
              "type": "string"
            }
          },
          "metadata": {}
        }
      ],
      "source": [
        "# defino las incognitas\n",
        "t = sympy.Symbol('t')\n",
        "c = sympy.Symbol('c')\n",
        "L = sympy.Symbol('L')\n",
        "R = sympy.Symbol('R')\n",
        "q = sympy.Function('q')\n",
        "# expreso la ecuacion\n",
        "\n",
        "eq = sympy.Eq(L*q(t).diff(t,2)+R*q(t).diff(t)+q(t)/c,  0)\n",
        "\n",
        "clasificacion(eq, q(t))"
      ]
    },
    {
      "cell_type": "markdown",
      "metadata": {
        "id": "tL7Q1qkK9cAc"
      },
      "source": [
        "(k)$$\\frac{d^2p}{dϴ^2}=\\sqrt[4]{p+(\\frac{dp}{dϴ})^2}$$"
      ]
    },
    {
      "cell_type": "code",
      "execution_count": null,
      "metadata": {
        "id": "qqqeIrZD-NT1",
        "colab": {
          "base_uri": "https://localhost:8080/",
          "height": 162
        },
        "outputId": "7abf3f94-b470-47c1-9757-4ec285e89073"
      },
      "outputs": [
        {
          "output_type": "display_data",
          "data": {
            "text/plain": [
              "                                0.25\n",
              "  2         ⎛                 2⎞    \n",
              " d          ⎜       ⎛d       ⎞ ⎟    \n",
              "───(p(θ)) = ⎜p(θ) + ⎜──(p(θ))⎟ ⎟    \n",
              "  2         ⎝       ⎝dθ      ⎠ ⎠    \n",
              "dθ                                  "
            ],
            "text/latex": "$\\displaystyle \\frac{d^{2}}{d \\theta^{2}} p{\\left(\\theta \\right)} = \\left(p{\\left(\\theta \\right)} + \\left(\\frac{d}{d \\theta} p{\\left(\\theta \\right)}\\right)^{2}\\right)^{0.25}$"
          },
          "metadata": {}
        },
        {
          "output_type": "stream",
          "name": "stdout",
          "text": [
            "\n",
            "\n"
          ]
        },
        {
          "output_type": "display_data",
          "data": {
            "text/plain": [
              "('factorable',)"
            ]
          },
          "metadata": {}
        },
        {
          "output_type": "display_data",
          "data": {
            "text/plain": [
              "2"
            ],
            "text/latex": "$\\displaystyle 2$"
          },
          "metadata": {}
        },
        {
          "output_type": "display_data",
          "data": {
            "text/plain": [
              "'Ecuacion Diferencial Ordinaria'"
            ],
            "application/vnd.google.colaboratory.intrinsic+json": {
              "type": "string"
            }
          },
          "metadata": {}
        }
      ],
      "source": [
        "# defino las incognitas\n",
        "t = sympy.Symbol(\"theta\")\n",
        "p = sympy.Function('p')\n",
        "# expreso la ecuacion\n",
        "\n",
        "eq = sympy.Eq(p(t).diff(t,2),  (p(t)+(p(t).diff(t))**2)**(1/4))\n",
        "clasificacion(eq, p(t))"
      ]
    },
    {
      "cell_type": "markdown",
      "metadata": {
        "id": "AJgarugIac5V"
      },
      "source": [
        "2.   Tendrá soluciín está ecuación diferencial $(y'(t))^2+1=0$\n",
        "\n",
        "\n"
      ]
    },
    {
      "cell_type": "code",
      "execution_count": null,
      "metadata": {
        "id": "b7gJcTywa1sz",
        "colab": {
          "base_uri": "https://localhost:8080/",
          "height": 38
        },
        "outputId": "f57c0658-a42b-4994-fa19-9475930588a1"
      },
      "outputs": [
        {
          "output_type": "execute_result",
          "data": {
            "text/plain": [
              "[y(t) = C₁ - ⅈ⋅t, y(t) = C₁ + ⅈ⋅t]"
            ],
            "text/latex": "$\\displaystyle \\left[ y{\\left(t \\right)} = C_{1} - i t, \\  y{\\left(t \\right)} = C_{1} + i t\\right]$"
          },
          "metadata": {},
          "execution_count": 15
        }
      ],
      "source": [
        "# defino las incognitas\n",
        "t = sympy.Symbol('t')\n",
        "y = sympy.Function('y')\n",
        "# expreso la ecuacion\n",
        "\n",
        "eq = sympy.Eq((y(t).diff(t))**2+1,0)\n",
        "\n",
        "sympy.dsolve(eq)"
      ]
    },
    {
      "cell_type": "markdown",
      "metadata": {
        "id": "rDN6TMb-eMwS"
      },
      "source": [
        "3.   Probar que la ecuación $t^2+y^2-4=0$ define en forma implicíta una solucion de la ecuacion diferencial $t+yy'=0$ en el intervalo $-2>t>2$.\n",
        "\n"
      ]
    },
    {
      "cell_type": "code",
      "execution_count": null,
      "metadata": {
        "id": "rwDnvWTEeo5_",
        "colab": {
          "base_uri": "https://localhost:8080/",
          "height": 124
        },
        "outputId": "90f3ff52-9aa7-4ae1-c69c-203fa119fae1"
      },
      "outputs": [
        {
          "output_type": "display_data",
          "data": {
            "text/plain": [
              " 2    2           \n",
              "t  + y (t) - 4 = 0"
            ],
            "text/latex": "$\\displaystyle t^{2} + y^{2}{\\left(t \\right)} - 4 = 0$"
          },
          "metadata": {}
        },
        {
          "output_type": "display_data",
          "data": {
            "text/plain": [
              "         d           \n",
              "t + y(t)⋅──(y(t)) = 0\n",
              "         dt          "
            ],
            "text/latex": "$\\displaystyle t + y{\\left(t \\right)} \\frac{d}{d t} y{\\left(t \\right)} = 0$"
          },
          "metadata": {}
        },
        {
          "output_type": "display_data",
          "data": {
            "text/plain": [
              "⎡    ________     ________⎤\n",
              "⎢   ╱      2     ╱      2 ⎥\n",
              "⎣-╲╱  4 - t  , ╲╱  4 - t  ⎦"
            ],
            "text/latex": "$\\displaystyle \\left[ - \\sqrt{4 - t^{2}}, \\  \\sqrt{4 - t^{2}}\\right]$"
          },
          "metadata": {}
        },
        {
          "output_type": "display_data",
          "data": {
            "text/plain": [
              "[(-2,), (2,)]"
            ],
            "text/latex": "$\\displaystyle \\left[ \\left( -2,\\right), \\  \\left( 2,\\right)\\right]$"
          },
          "metadata": {}
        }
      ],
      "source": [
        "# defino las incognitas\n",
        "t = sympy.Symbol('t')\n",
        "y = sympy.Function('y')\n",
        "# expreso la ecuacion\n",
        "\n",
        "eq = sympy.Eq((t**2+y(t)**2-4),0)\n",
        "display(eq)\n",
        "\n",
        "eq_2 = sympy.Eq(sympy.diff(t**2+y(t)**2-4)/2,0)\n",
        "display(eq_2)\n",
        "eq_3 = sympy.solve(eq,y(t))\n",
        "display(eq_3)\n",
        "\n",
        "display(sympy.solve(eq_3, t))\n",
        "\n"
      ]
    },
    {
      "cell_type": "markdown",
      "metadata": {
        "id": "3UH2TGCPP_i5"
      },
      "source": [
        "4.   **Probar** que la ecuación diferencial $ty'+y=1$ admite como solución genereal $y=\\frac{c}{t},c$ $∈ \\mathbb R$, en cualquier intervalo que no contenga al cero.\n",
        "\n"
      ]
    },
    {
      "cell_type": "code",
      "execution_count": null,
      "metadata": {
        "id": "DAB2Na-1RB1-",
        "colab": {
          "base_uri": "https://localhost:8080/",
          "height": 155
        },
        "outputId": "94382318-3f6b-4549-a878-a22d6e1cec5f"
      },
      "outputs": [
        {
          "output_type": "display_data",
          "data": {
            "text/plain": [
              "  d                  \n",
              "t⋅──(y(t)) + y(t) = 1\n",
              "  dt                 "
            ],
            "text/latex": "$\\displaystyle t \\frac{d}{d t} y{\\left(t \\right)} + y{\\left(t \\right)} = 1$"
          },
          "metadata": {}
        },
        {
          "output_type": "stream",
          "name": "stdout",
          "text": [
            "\n",
            "\n"
          ]
        },
        {
          "output_type": "display_data",
          "data": {
            "text/plain": [
              "       C₁    \n",
              "y(t) = ── + 1\n",
              "       t     "
            ],
            "text/latex": "$\\displaystyle y{\\left(t \\right)} = \\frac{C_{1}}{t} + 1$"
          },
          "metadata": {}
        },
        {
          "output_type": "execute_result",
          "data": {
            "text/plain": [
              "           1\n",
              "y(t) = 1 + ─\n",
              "           t"
            ],
            "text/latex": "$\\displaystyle y{\\left(t \\right)} = 1 + \\frac{1}{t}$"
          },
          "metadata": {},
          "execution_count": 17
        }
      ],
      "source": [
        "# defino las incognitas\n",
        "t = sympy.Symbol('t')\n",
        "y = sympy.Function('y')\n",
        "# expreso la ecuacion\n",
        "\n",
        "eq = sympy.Eq(t*y(t).diff(t)+y(t),1)\n",
        "display(eq)\n",
        "lin()\n",
        "display(sympy.dsolve(eq))\n",
        "\n",
        "sympy.dsolve(eq, y(t), ics={y(1):'2'})\n"
      ]
    },
    {
      "cell_type": "markdown",
      "metadata": {
        "id": "nZoS9twmXFQD"
      },
      "source": [
        "5.   Para el campo $y'=y^2$, se pide:\n",
        "\n",
        "\n",
        "\n",
        "\n",
        "\n"
      ]
    },
    {
      "cell_type": "markdown",
      "metadata": {
        "id": "GpR62lssXdtC"
      },
      "source": [
        "a) Dibujar el campo de direcciones y trace alguna de las soluciones de la ecuacion diferencial."
      ]
    },
    {
      "cell_type": "code",
      "execution_count": null,
      "metadata": {
        "id": "SBCl2oT3-Rdd",
        "colab": {
          "base_uri": "https://localhost:8080/",
          "height": 54
        },
        "outputId": "7eaba0d9-5421-49bd-ee4a-f8cce82e96b1"
      },
      "outputs": [
        {
          "output_type": "execute_result",
          "data": {
            "text/plain": [
              "        -1   \n",
              "y(x) = ──────\n",
              "       C₁ + x"
            ],
            "text/latex": "$\\displaystyle y{\\left(x \\right)} = - \\frac{1}{C_{1} + x}$"
          },
          "metadata": {},
          "execution_count": 18
        }
      ],
      "source": [
        "# defino las incognitas\n",
        "x = sympy.Symbol('x')\n",
        "y = sympy.Function('y')\n",
        "# expreso la ecuacion\n",
        "\n",
        "eq = sympy.Eq(y(x).diff(x), y(x)**2)\n",
        "sympy.dsolve(eq)"
      ]
    },
    {
      "cell_type": "code",
      "execution_count": null,
      "metadata": {
        "id": "lrolHxHCXnSc",
        "colab": {
          "base_uri": "https://localhost:8080/",
          "height": 572
        },
        "outputId": "9bdbdfd1-c359-4eb8-a9c5-572c9c7f3364"
      },
      "outputs": [
        {
          "output_type": "stream",
          "name": "stderr",
          "text": [
            "/usr/local/lib/python3.7/dist-packages/ipykernel_launcher.py:14: RuntimeWarning: divide by zero encountered in true_divide\n",
            "  \n",
            "WARNING:matplotlib.legend:No handles with labels found to put in legend.\n"
          ]
        },
        {
          "output_type": "execute_result",
          "data": {
            "text/plain": [
              "Text(0.5, 1.0, \"Campo de pendientes $y'=y^2$\")"
            ]
          },
          "metadata": {},
          "execution_count": 19
        },
        {
          "output_type": "display_data",
          "data": {
            "text/plain": [
              "<Figure size 576x576 with 1 Axes>"
            ],
            "image/png": "[encoded data removed]"
          },
          "metadata": {
            "needs_background": "light"
          }
        }
      ],
      "source": [
        "def f(x,y):\n",
        "  return y**2\n",
        "N=20\n",
        "x=np.linspace(-3,3,N)\n",
        "y=np.linspace(-15,15,N)\n",
        "X,Y = np.meshgrid( x, y)\n",
        "U=1; V = f(X,Y);\n",
        "U2, V2 = U/np.sqrt(U**2+V**2), V/np.sqrt(U**2+V**2)\n",
        "flig = plt.figure(figsize=(8,8))\n",
        "plt.quiver( X,Y,U2, V2, color='k')\n",
        "plt.grid(False)\n",
        "\n",
        "x=np.linspace(-3,3,100)\n",
        "y=-1/(1+x)\n",
        "plt.plot(x,y)\n",
        "plt.xlim(-3,3)\n",
        "plt.legend(loc=1)\n",
        "\n",
        "\n",
        "\n",
        "plt.title(r\"Campo de pendientes $y'=y^2$\")"
      ]
    },
    {
      "cell_type": "markdown",
      "metadata": {
        "id": "UK3yMpcdrRs0"
      },
      "source": [
        "\n",
        "\n",
        "---\n",
        "\n",
        "\n",
        "**Ejercicios:** Dada la ecuación, se pide.$$\\frac{dy}{dx}=-\\frac{x}{5y} $$  $$x\\neq 0, y \\neq 0$$"
      ]
    },
    {
      "cell_type": "markdown",
      "metadata": {
        "id": "ByKoRTc7slwq"
      },
      "source": [
        "a) ¿De qué tipo es?"
      ]
    },
    {
      "cell_type": "code",
      "execution_count": null,
      "metadata": {
        "id": "TrDKR_zisfkl",
        "colab": {
          "base_uri": "https://localhost:8080/",
          "height": 320
        },
        "outputId": "15cd4cd6-28a6-4cfd-96d4-94c789396013"
      },
      "outputs": [
        {
          "output_type": "display_data",
          "data": {
            "text/plain": [
              "d           -x   \n",
              "──(y(x)) = ──────\n",
              "dx         5⋅y(x)"
            ],
            "text/latex": "$\\displaystyle \\frac{d}{d x} y{\\left(x \\right)} = - \\frac{x}{5 y{\\left(x \\right)}}$"
          },
          "metadata": {}
        },
        {
          "output_type": "stream",
          "name": "stdout",
          "text": [
            "\n",
            "\n"
          ]
        },
        {
          "output_type": "display_data",
          "data": {
            "text/plain": [
              "('separable',\n",
              " '1st_exact',\n",
              " '1st_homogeneous_coeff_best',\n",
              " '1st_homogeneous_coeff_subs_indep_div_dep',\n",
              " '1st_homogeneous_coeff_subs_dep_div_indep',\n",
              " '1st_power_series',\n",
              " 'lie_group',\n",
              " 'separable_Integral',\n",
              " '1st_exact_Integral',\n",
              " '1st_homogeneous_coeff_subs_indep_div_dep_Integral',\n",
              " '1st_homogeneous_coeff_subs_dep_div_indep_Integral')"
            ]
          },
          "metadata": {}
        },
        {
          "output_type": "display_data",
          "data": {
            "text/plain": [
              "1"
            ],
            "text/latex": "$\\displaystyle 1$"
          },
          "metadata": {}
        },
        {
          "output_type": "display_data",
          "data": {
            "text/plain": [
              "'Ecuacion Diferencial Ordinaria'"
            ],
            "application/vnd.google.colaboratory.intrinsic+json": {
              "type": "string"
            }
          },
          "metadata": {}
        }
      ],
      "source": [
        "# defino las incognitas\n",
        "x = sympy.Symbol('x')\n",
        "y = sympy.Function('y')\n",
        "# expreso la ecuacion\n",
        "\n",
        "eq = sympy.Eq(y(x).diff(x), -x/(5*y(x)))\n",
        "\n",
        "clasificacion(eq, y(x))"
      ]
    },
    {
      "cell_type": "markdown",
      "metadata": {
        "id": "0xTImAustOR0"
      },
      "source": [
        "b)Resolverla, según correspona."
      ]
    },
    {
      "cell_type": "code",
      "execution_count": null,
      "metadata": {
        "id": "sfzCusXFtRwV",
        "colab": {
          "base_uri": "https://localhost:8080/",
          "height": 59
        },
        "outputId": "aa6fd94f-3405-4ec9-f6cb-156e3398d29a"
      },
      "outputs": [
        {
          "output_type": "execute_result",
          "data": {
            "text/plain": [
              "⎡           ___________             ___________⎤\n",
              "⎢          ╱         2             ╱         2 ⎥\n",
              "⎢       -╲╱  C₁ - 5⋅x            ╲╱  C₁ - 5⋅x  ⎥\n",
              "⎢y(x) = ────────────────, y(x) = ──────────────⎥\n",
              "⎣              5                       5       ⎦"
            ],
            "text/latex": "$\\displaystyle \\left[ y{\\left(x \\right)} = - \\frac{\\sqrt{C_{1} - 5 x^{2}}}{5}, \\  y{\\left(x \\right)} = \\frac{\\sqrt{C_{1} - 5 x^{2}}}{5}\\right]$"
          },
          "metadata": {},
          "execution_count": 21
        }
      ],
      "source": [
        "sympy.dsolve(eq)"
      ]
    },
    {
      "cell_type": "markdown",
      "metadata": {
        "id": "EEMlz9Cftg-Q"
      },
      "source": [
        "c)¿De que tipo de familias de curvas(cónicas) es la solución?"
      ]
    },
    {
      "cell_type": "code",
      "execution_count": null,
      "metadata": {
        "id": "paNTT83dtpr8",
        "colab": {
          "base_uri": "https://localhost:8080/",
          "height": 934
        },
        "outputId": "ee03e8c9-328d-4175-d439-8bdcee8a0065"
      },
      "outputs": [
        {
          "output_type": "stream",
          "name": "stderr",
          "text": [
            "/usr/local/lib/python3.7/dist-packages/ipykernel_launcher.py:4: RuntimeWarning: invalid value encountered in sqrt\n",
            "  after removing the cwd from sys.path.\n",
            "/usr/local/lib/python3.7/dist-packages/ipykernel_launcher.py:4: RuntimeWarning: invalid value encountered in sqrt\n",
            "  after removing the cwd from sys.path.\n",
            "/usr/local/lib/python3.7/dist-packages/ipykernel_launcher.py:4: RuntimeWarning: invalid value encountered in sqrt\n",
            "  after removing the cwd from sys.path.\n",
            "/usr/local/lib/python3.7/dist-packages/ipykernel_launcher.py:4: RuntimeWarning: invalid value encountered in sqrt\n",
            "  after removing the cwd from sys.path.\n",
            "/usr/local/lib/python3.7/dist-packages/ipykernel_launcher.py:4: RuntimeWarning: invalid value encountered in sqrt\n",
            "  after removing the cwd from sys.path.\n",
            "/usr/local/lib/python3.7/dist-packages/ipykernel_launcher.py:4: RuntimeWarning: invalid value encountered in sqrt\n",
            "  after removing the cwd from sys.path.\n",
            "/usr/local/lib/python3.7/dist-packages/ipykernel_launcher.py:4: RuntimeWarning: invalid value encountered in sqrt\n",
            "  after removing the cwd from sys.path.\n",
            "/usr/local/lib/python3.7/dist-packages/ipykernel_launcher.py:4: RuntimeWarning: invalid value encountered in sqrt\n",
            "  after removing the cwd from sys.path.\n",
            "/usr/local/lib/python3.7/dist-packages/ipykernel_launcher.py:4: RuntimeWarning: invalid value encountered in sqrt\n",
            "  after removing the cwd from sys.path.\n",
            "/usr/local/lib/python3.7/dist-packages/ipykernel_launcher.py:10: RuntimeWarning: invalid value encountered in sqrt\n",
            "  # Remove the CWD from sys.path while we load stuff.\n",
            "/usr/local/lib/python3.7/dist-packages/ipykernel_launcher.py:10: RuntimeWarning: invalid value encountered in sqrt\n",
            "  # Remove the CWD from sys.path while we load stuff.\n",
            "/usr/local/lib/python3.7/dist-packages/ipykernel_launcher.py:10: RuntimeWarning: invalid value encountered in sqrt\n",
            "  # Remove the CWD from sys.path while we load stuff.\n",
            "/usr/local/lib/python3.7/dist-packages/ipykernel_launcher.py:10: RuntimeWarning: invalid value encountered in sqrt\n",
            "  # Remove the CWD from sys.path while we load stuff.\n",
            "/usr/local/lib/python3.7/dist-packages/ipykernel_launcher.py:10: RuntimeWarning: invalid value encountered in sqrt\n",
            "  # Remove the CWD from sys.path while we load stuff.\n",
            "/usr/local/lib/python3.7/dist-packages/ipykernel_launcher.py:10: RuntimeWarning: invalid value encountered in sqrt\n",
            "  # Remove the CWD from sys.path while we load stuff.\n",
            "/usr/local/lib/python3.7/dist-packages/ipykernel_launcher.py:10: RuntimeWarning: invalid value encountered in sqrt\n",
            "  # Remove the CWD from sys.path while we load stuff.\n",
            "/usr/local/lib/python3.7/dist-packages/ipykernel_launcher.py:10: RuntimeWarning: invalid value encountered in sqrt\n",
            "  # Remove the CWD from sys.path while we load stuff.\n",
            "/usr/local/lib/python3.7/dist-packages/ipykernel_launcher.py:10: RuntimeWarning: invalid value encountered in sqrt\n",
            "  # Remove the CWD from sys.path while we load stuff.\n"
          ]
        },
        {
          "output_type": "display_data",
          "data": {
            "text/plain": [
              "<Figure size 576x288 with 1 Axes>"
            ],
            "image/png": "[encoded data removed]"
          },
          "metadata": {
            "needs_background": "light"
          }
        }
      ],
      "source": [
        "x=np.linspace(-3,3,500)\n",
        "fig = plt.figure(figsize=(8,4))\n",
        "for C in range(1,10,1):\n",
        "  y=-(np.sqrt(C-5*x**2)/5)\n",
        "  plt.plot(x,y,label=\"Para C=%d\"%C)\n",
        "  plt.xlim(-3,3)\n",
        "  plt.grid(True)\n",
        "  plt.legend(loc=1)\n",
        "for C in range(1,10,1):\n",
        "  y=(np.sqrt(C-5*x**2)/5)\n",
        "  plt.plot(x,y,label=\"Para C=%d\"%C)\n",
        "  plt.xlim(-3,3)\n",
        "  plt.grid(True)\n",
        "  plt.legend(loc=1)\n",
        "plt.show()\n"
      ]
    },
    {
      "cell_type": "markdown",
      "metadata": {
        "id": "CIg8ulgy6Hcw"
      },
      "source": [
        "d)Verificar con Wolfram Alpha sus resultados."
      ]
    },
    {
      "cell_type": "code",
      "execution_count": null,
      "metadata": {
        "id": "gVWHJJ2C6NTr",
        "colab": {
          "base_uri": "https://localhost:8080/",
          "height": 460
        },
        "outputId": "2b093a88-c311-459e-c279-470ea3743166"
      },
      "outputs": [
        {
          "output_type": "stream",
          "name": "stderr",
          "text": [
            "/usr/local/lib/python3.7/dist-packages/IPython/core/display.py:701: UserWarning: Consider using IPython.display.IFrame instead\n",
            "  warnings.warn(\"Consider using IPython.display.IFrame instead\")\n"
          ]
        },
        {
          "output_type": "execute_result",
          "data": {
            "text/plain": [
              "<IPython.core.display.HTML object>"
            ],
            "text/html": [
              "<iframe src=\"https://www.wolframalpha.com/input?i=dy%2Fdx%3D-x%2F%285y%29&lang=es\" width=\"1000\" height=\"400\"></iframe>"
            ]
          },
          "metadata": {},
          "execution_count": 23
        }
      ],
      "source": [
        "HTML('<iframe src=\"https://www.wolframalpha.com/input?i=dy%2Fdx%3D-x%2F%285y%29&lang=es\" width=\"1000\" height=\"400\"></iframe>')"
      ]
    },
    {
      "cell_type": "markdown",
      "metadata": {
        "id": "9BgnW2LroEF4"
      },
      "source": [
        "\n",
        "\n",
        "---\n",
        "**Ejercicio**\n",
        "\n",
        "Halle las trayectorias ortogonales a la familia de curvas dadas por la ecuación $x*(y^2+1)+x*y^2=c,c$ constante arbitraria.\n",
        "Para ello, deberá derivar implicitamente para hallar $dy/dx=y'$.\n",
        "Una vez definida la ecuacion diferencial, deberá resolver la ecuacion diferencial y hallar las curvas solución que graficamente son ortogonales con las curvas dadas al comienzo."
      ]
    },
    {
      "cell_type": "code",
      "execution_count": null,
      "metadata": {
        "id": "6TTMX_bAo49X",
        "colab": {
          "base_uri": "https://localhost:8080/",
          "height": 273
        },
        "outputId": "45f6884d-27e3-45af-a132-54640a6c4614"
      },
      "outputs": [
        {
          "output_type": "display_data",
          "data": {
            "text/plain": [
              "                2       \n",
              "d          - 2⋅y (x) - 1\n",
              "──(y(x)) = ─────────────\n",
              "dx            4⋅x⋅y(x)  "
            ],
            "text/latex": "$\\displaystyle \\frac{d}{d x} y{\\left(x \\right)} = \\frac{- 2 y^{2}{\\left(x \\right)} - 1}{4 x y{\\left(x \\right)}}$"
          },
          "metadata": {}
        },
        {
          "output_type": "stream",
          "name": "stdout",
          "text": [
            "\n",
            "\n",
            "familia ortogonal cumple:\n"
          ]
        },
        {
          "output_type": "display_data",
          "data": {
            "text/plain": [
              "d             4⋅x⋅y(x)  \n",
              "──(y(x)) = ─────────────\n",
              "dx              2       \n",
              "           - 2⋅y (x) - 1"
            ],
            "text/latex": "$\\displaystyle \\frac{d}{d x} y{\\left(x \\right)} = \\frac{4 x y{\\left(x \\right)}}{- 2 y^{2}{\\left(x \\right)} - 1}$"
          },
          "metadata": {}
        },
        {
          "output_type": "stream",
          "name": "stdout",
          "text": [
            "\n",
            "\n"
          ]
        },
        {
          "output_type": "display_data",
          "data": {
            "text/plain": [
              "   2       \n",
              "- y (x) - 1"
            ],
            "text/latex": "$\\displaystyle - y^{2}{\\left(x \\right)} - 1$"
          },
          "metadata": {}
        },
        {
          "output_type": "display_data",
          "data": {
            "text/plain": [
              "   2\n",
              "2⋅x "
            ],
            "text/latex": "$\\displaystyle 2 x^{2}$"
          },
          "metadata": {}
        },
        {
          "output_type": "display_data",
          "data": {
            "text/plain": [
              "   2             2\n",
              "- y (x) - 1 = 2⋅x "
            ],
            "text/latex": "$\\displaystyle - y^{2}{\\left(x \\right)} - 1 = 2 x^{2}$"
          },
          "metadata": {}
        },
        {
          "output_type": "display_data",
          "data": {
            "text/plain": [
              "          ______________\n",
              "         ╱        2     \n",
              "y(x) = ╲╱  C - 2⋅x  - 1 "
            ],
            "text/latex": "$\\displaystyle y{\\left(x \\right)} = \\sqrt{C - 2 x^{2} - 1}$"
          },
          "metadata": {}
        }
      ],
      "source": [
        "# defino las incognitas\n",
        "x = sympy.Symbol('x')\n",
        "C = sympy.Symbol('C')\n",
        "y = sympy.Function('y')\n",
        "# expreso la ecuacion\n",
        "eq = x*(y(x)**2+1) + x*y(x)**2\n",
        "eq_x = sympy.diff(eq,x)\n",
        "eq = sympy.Eq(eq_x,0)\n",
        "\n",
        "eq_x =sympy.Eq(y(x).diff(x),(-2*y(x)**2-1)/(4*x*y(x)))\n",
        "display(eq_x)\n",
        "lin()\n",
        "print(\"familia ortogonal cumple:\")\n",
        "eq_or =sympy.Eq(y(x).diff(x),((-2*y(x)**2-1)/(4*x*y(x)))**-1)\n",
        "display(eq_or)\n",
        "lin()\n",
        "integral_y = sympy.integrate((-2*y(x)**2-1)/y(x),y(x))\n",
        "display(integral_y)\n",
        "integral_x = sympy.integrate(4*x,x)\n",
        "display(integral_x)\n",
        "\n",
        "display(sympy.Eq(integral_y, integral_x))\n",
        "\n",
        "eq = sympy.Eq(y(x), sympy.sqrt(-2*x**2-1+C))\n",
        "display(eq)"
      ]
    },
    {
      "cell_type": "code",
      "execution_count": null,
      "metadata": {
        "id": "UaLCSD2q30In",
        "colab": {
          "base_uri": "https://localhost:8080/",
          "height": 1000
        },
        "outputId": "df438f70-6a13-4841-c47f-cbf3c9a068db"
      },
      "outputs": [
        {
          "output_type": "stream",
          "name": "stderr",
          "text": [
            "/usr/local/lib/python3.7/dist-packages/ipykernel_launcher.py:4: RuntimeWarning: invalid value encountered in sqrt\n",
            "  after removing the cwd from sys.path.\n",
            "/usr/local/lib/python3.7/dist-packages/ipykernel_launcher.py:4: RuntimeWarning: invalid value encountered in sqrt\n",
            "  after removing the cwd from sys.path.\n",
            "/usr/local/lib/python3.7/dist-packages/ipykernel_launcher.py:4: RuntimeWarning: invalid value encountered in sqrt\n",
            "  after removing the cwd from sys.path.\n",
            "/usr/local/lib/python3.7/dist-packages/ipykernel_launcher.py:4: RuntimeWarning: invalid value encountered in sqrt\n",
            "  after removing the cwd from sys.path.\n",
            "/usr/local/lib/python3.7/dist-packages/ipykernel_launcher.py:4: RuntimeWarning: invalid value encountered in sqrt\n",
            "  after removing the cwd from sys.path.\n",
            "/usr/local/lib/python3.7/dist-packages/ipykernel_launcher.py:4: RuntimeWarning: invalid value encountered in sqrt\n",
            "  after removing the cwd from sys.path.\n",
            "/usr/local/lib/python3.7/dist-packages/ipykernel_launcher.py:4: RuntimeWarning: invalid value encountered in sqrt\n",
            "  after removing the cwd from sys.path.\n",
            "/usr/local/lib/python3.7/dist-packages/ipykernel_launcher.py:4: RuntimeWarning: invalid value encountered in sqrt\n",
            "  after removing the cwd from sys.path.\n",
            "/usr/local/lib/python3.7/dist-packages/ipykernel_launcher.py:4: RuntimeWarning: invalid value encountered in sqrt\n",
            "  after removing the cwd from sys.path.\n",
            "/usr/local/lib/python3.7/dist-packages/ipykernel_launcher.py:4: RuntimeWarning: invalid value encountered in sqrt\n",
            "  after removing the cwd from sys.path.\n",
            "/usr/local/lib/python3.7/dist-packages/ipykernel_launcher.py:4: RuntimeWarning: invalid value encountered in sqrt\n",
            "  after removing the cwd from sys.path.\n",
            "/usr/local/lib/python3.7/dist-packages/ipykernel_launcher.py:4: RuntimeWarning: invalid value encountered in sqrt\n",
            "  after removing the cwd from sys.path.\n",
            "/usr/local/lib/python3.7/dist-packages/ipykernel_launcher.py:4: RuntimeWarning: invalid value encountered in sqrt\n",
            "  after removing the cwd from sys.path.\n",
            "/usr/local/lib/python3.7/dist-packages/ipykernel_launcher.py:4: RuntimeWarning: invalid value encountered in sqrt\n",
            "  after removing the cwd from sys.path.\n",
            "/usr/local/lib/python3.7/dist-packages/ipykernel_launcher.py:4: RuntimeWarning: invalid value encountered in sqrt\n",
            "  after removing the cwd from sys.path.\n",
            "/usr/local/lib/python3.7/dist-packages/ipykernel_launcher.py:4: RuntimeWarning: invalid value encountered in sqrt\n",
            "  after removing the cwd from sys.path.\n",
            "/usr/local/lib/python3.7/dist-packages/ipykernel_launcher.py:4: RuntimeWarning: invalid value encountered in sqrt\n",
            "  after removing the cwd from sys.path.\n",
            "/usr/local/lib/python3.7/dist-packages/ipykernel_launcher.py:4: RuntimeWarning: invalid value encountered in sqrt\n",
            "  after removing the cwd from sys.path.\n",
            "/usr/local/lib/python3.7/dist-packages/ipykernel_launcher.py:11: RuntimeWarning: invalid value encountered in sqrt\n",
            "  # This is added back by InteractiveShellApp.init_path()\n",
            "/usr/local/lib/python3.7/dist-packages/ipykernel_launcher.py:11: RuntimeWarning: invalid value encountered in sqrt\n",
            "  # This is added back by InteractiveShellApp.init_path()\n",
            "/usr/local/lib/python3.7/dist-packages/ipykernel_launcher.py:11: RuntimeWarning: invalid value encountered in sqrt\n",
            "  # This is added back by InteractiveShellApp.init_path()\n",
            "/usr/local/lib/python3.7/dist-packages/ipykernel_launcher.py:11: RuntimeWarning: invalid value encountered in sqrt\n",
            "  # This is added back by InteractiveShellApp.init_path()\n",
            "/usr/local/lib/python3.7/dist-packages/ipykernel_launcher.py:11: RuntimeWarning: invalid value encountered in sqrt\n",
            "  # This is added back by InteractiveShellApp.init_path()\n",
            "/usr/local/lib/python3.7/dist-packages/ipykernel_launcher.py:11: RuntimeWarning: invalid value encountered in sqrt\n",
            "  # This is added back by InteractiveShellApp.init_path()\n",
            "/usr/local/lib/python3.7/dist-packages/ipykernel_launcher.py:11: RuntimeWarning: invalid value encountered in sqrt\n",
            "  # This is added back by InteractiveShellApp.init_path()\n",
            "/usr/local/lib/python3.7/dist-packages/ipykernel_launcher.py:11: RuntimeWarning: invalid value encountered in sqrt\n",
            "  # This is added back by InteractiveShellApp.init_path()\n",
            "/usr/local/lib/python3.7/dist-packages/ipykernel_launcher.py:11: RuntimeWarning: invalid value encountered in sqrt\n",
            "  # This is added back by InteractiveShellApp.init_path()\n",
            "/usr/local/lib/python3.7/dist-packages/ipykernel_launcher.py:11: RuntimeWarning: invalid value encountered in sqrt\n",
            "  # This is added back by InteractiveShellApp.init_path()\n",
            "/usr/local/lib/python3.7/dist-packages/ipykernel_launcher.py:11: RuntimeWarning: invalid value encountered in sqrt\n",
            "  # This is added back by InteractiveShellApp.init_path()\n",
            "/usr/local/lib/python3.7/dist-packages/ipykernel_launcher.py:11: RuntimeWarning: invalid value encountered in sqrt\n",
            "  # This is added back by InteractiveShellApp.init_path()\n",
            "/usr/local/lib/python3.7/dist-packages/ipykernel_launcher.py:11: RuntimeWarning: invalid value encountered in sqrt\n",
            "  # This is added back by InteractiveShellApp.init_path()\n",
            "/usr/local/lib/python3.7/dist-packages/ipykernel_launcher.py:11: RuntimeWarning: invalid value encountered in sqrt\n",
            "  # This is added back by InteractiveShellApp.init_path()\n",
            "/usr/local/lib/python3.7/dist-packages/ipykernel_launcher.py:11: RuntimeWarning: invalid value encountered in sqrt\n",
            "  # This is added back by InteractiveShellApp.init_path()\n",
            "/usr/local/lib/python3.7/dist-packages/ipykernel_launcher.py:11: RuntimeWarning: invalid value encountered in sqrt\n",
            "  # This is added back by InteractiveShellApp.init_path()\n",
            "/usr/local/lib/python3.7/dist-packages/ipykernel_launcher.py:11: RuntimeWarning: invalid value encountered in sqrt\n",
            "  # This is added back by InteractiveShellApp.init_path()\n",
            "/usr/local/lib/python3.7/dist-packages/ipykernel_launcher.py:11: RuntimeWarning: invalid value encountered in sqrt\n",
            "  # This is added back by InteractiveShellApp.init_path()\n",
            "/usr/local/lib/python3.7/dist-packages/ipykernel_launcher.py:11: RuntimeWarning: invalid value encountered in sqrt\n",
            "  # This is added back by InteractiveShellApp.init_path()\n",
            "/usr/local/lib/python3.7/dist-packages/ipykernel_launcher.py:11: RuntimeWarning: invalid value encountered in sqrt\n",
            "  # This is added back by InteractiveShellApp.init_path()\n"
          ]
        },
        {
          "output_type": "display_data",
          "data": {
            "text/plain": [
              "<Figure size 576x288 with 1 Axes>"
            ],
            "image/png": "[encoded data removed]"
          },
          "metadata": {
            "needs_background": "light"
          }
        }
      ],
      "source": [
        "x=np.linspace(-3,3,500)\n",
        "fig = plt.figure(figsize=(8,4))\n",
        "for C in range(-9,9,1):\n",
        "  y=np.sqrt(C-2*x**2-1)\n",
        "  plt.plot(x,y,label=\"Para C=%d\"%C)\n",
        "  plt.xlim(-3,3)\n",
        "  plt.grid(True)\n",
        "  plt.legend(loc=1)\n",
        "\n",
        "for C in range(-10,10,1):\n",
        "  y=np.sqrt((C-x)/(2*x))\n",
        "  plt.plot(x,y,label=\"Para C=%d\"%C)\n",
        "  plt.xlim(-3,3)\n",
        "  plt.grid(True)\n",
        "  plt.legend(loc=1)\n",
        "plt.show()\n"
      ]
    },
    {
      "cell_type": "markdown",
      "metadata": {
        "id": "P3Vax8fD6PhS"
      },
      "source": [
        "\n",
        "\n",
        "---\n",
        "Resuelva la ecuación.\n",
        "$$y'=\\frac{x+y}{x-y}$$\n",
        "Además, hallar el Campo de Direcciones de la ODE.\n",
        "\n"
      ]
    },
    {
      "cell_type": "code",
      "execution_count": null,
      "metadata": {
        "id": "gEbSz2Pg6hHs",
        "colab": {
          "base_uri": "https://localhost:8080/",
          "height": 303
        },
        "outputId": "fa138733-a5fe-4afe-e532-ad4ec8cee27d"
      },
      "outputs": [
        {
          "output_type": "display_data",
          "data": {
            "text/plain": [
              "d          x + y(x)\n",
              "──(y(x)) = ────────\n",
              "dx         x - y(x)"
            ],
            "text/latex": "$\\displaystyle \\frac{d}{d x} y{\\left(x \\right)} = \\frac{x + y{\\left(x \\right)}}{x - y{\\left(x \\right)}}$"
          },
          "metadata": {}
        },
        {
          "output_type": "stream",
          "name": "stdout",
          "text": [
            "\n",
            "\n"
          ]
        },
        {
          "output_type": "display_data",
          "data": {
            "text/plain": [
              "('1st_homogeneous_coeff_best',\n",
              " '1st_homogeneous_coeff_subs_indep_div_dep',\n",
              " '1st_homogeneous_coeff_subs_dep_div_indep',\n",
              " '1st_power_series',\n",
              " 'lie_group',\n",
              " '1st_homogeneous_coeff_subs_indep_div_dep_Integral',\n",
              " '1st_homogeneous_coeff_subs_dep_div_indep_Integral')"
            ]
          },
          "metadata": {}
        },
        {
          "output_type": "display_data",
          "data": {
            "text/plain": [
              "1"
            ],
            "text/latex": "$\\displaystyle 1$"
          },
          "metadata": {}
        },
        {
          "output_type": "display_data",
          "data": {
            "text/plain": [
              "'Ecuacion Diferencial Ordinaria'"
            ],
            "application/vnd.google.colaboratory.intrinsic+json": {
              "type": "string"
            }
          },
          "metadata": {}
        },
        {
          "output_type": "display_data",
          "data": {
            "text/plain": [
              "                 ⎛      ___________⎞             \n",
              "                 ⎜     ╱      2    ⎟             \n",
              "                 ⎜    ╱      y (x) ⎟       ⎛y(x)⎞\n",
              "log(x) = C₁ - log⎜   ╱   1 + ───── ⎟ + atan⎜────⎟\n",
              "                 ⎜  ╱           2  ⎟       ⎝ x  ⎠\n",
              "                 ⎝╲╱           x   ⎠             "
            ],
            "text/latex": "$\\displaystyle \\log{\\left(x \\right)} = C_{1} - \\log{\\left(\\sqrt{1 + \\frac{y^{2}{\\left(x \\right)}}{x^{2}}} \\right)} + \\operatorname{atan}{\\left(\\frac{y{\\left(x \\right)}}{x} \\right)}$"
          },
          "metadata": {}
        }
      ],
      "source": [
        "# defino las incognitas\n",
        "x = sympy.Symbol('x')\n",
        "y = sympy.Function('y')\n",
        "# expreso la ecuacion\n",
        "\n",
        "eq = sympy.Eq(y(x).diff(x), (x+y(x))/(x-y(x)))\n",
        "\n",
        "clasificacion(eq, y(x))\n",
        "display(sympy.dsolve(eq))"
      ]
    },
    {
      "cell_type": "code",
      "execution_count": null,
      "metadata": {
        "id": "RuapAbay7Lw1",
        "colab": {
          "base_uri": "https://localhost:8080/",
          "height": 593
        },
        "outputId": "d814efbb-7917-40d2-8ec8-9da265415176"
      },
      "outputs": [
        {
          "output_type": "stream",
          "name": "stderr",
          "text": [
            "/usr/local/lib/python3.7/dist-packages/ipykernel_launcher.py:2: RuntimeWarning: divide by zero encountered in true_divide\n",
            "  \n",
            "/usr/local/lib/python3.7/dist-packages/ipykernel_launcher.py:8: RuntimeWarning: invalid value encountered in true_divide\n",
            "  \n"
          ]
        },
        {
          "output_type": "execute_result",
          "data": {
            "text/plain": [
              "Text(0.5, 1.0, \"Campo de pendientes $y'= \\\\frac{x+y}{x-y}$\")"
            ]
          },
          "metadata": {},
          "execution_count": 27
        },
        {
          "output_type": "display_data",
          "data": {
            "text/plain": [
              "<Figure size 576x576 with 1 Axes>"
            ],
            "image/png": "[encoded data removed]"
          },
          "metadata": {
            "needs_background": "light"
          }
        }
      ],
      "source": [
        "def f(x,y):\n",
        "  return (x+y)/(x-y)\n",
        "N=20\n",
        "x=np.linspace(-3,3,N)\n",
        "y=np.linspace(-15,15,N)\n",
        "X,Y = np.meshgrid( x, y)\n",
        "U=1; V = f(X,Y);\n",
        "U2, V2 = U/np.sqrt(U**2+V**2), V/np.sqrt(U**2+V**2)\n",
        "flig = plt.figure(figsize=(8,8))\n",
        "plt.quiver( X,Y,U2, V2, color='k')\n",
        "plt.grid(False)\n",
        "\n",
        "plt.title(r\"Campo de pendientes $y'= \\frac{x+y}{x-y}$\")"
      ]
    },
    {
      "cell_type": "markdown",
      "metadata": {
        "id": "HjkJAIvD7ij1"
      },
      "source": [
        "\n",
        "\n",
        "---\n",
        "**Ejercicio(mediante la forma exacta)**\n",
        "\n",
        "Resolver las siguientes ecuaciones diferenciales\n",
        "\n"
      ]
    },
    {
      "cell_type": "markdown",
      "metadata": {
        "id": "ym7JuqFB8Vsi"
      },
      "source": [
        "$$\\frac{dy}{dt}=\\frac{e^t}{2y}$$"
      ]
    },
    {
      "cell_type": "code",
      "execution_count": null,
      "metadata": {
        "id": "6D0cjYj-79dY",
        "colab": {
          "base_uri": "https://localhost:8080/",
          "height": 88
        },
        "outputId": "a61e1173-f466-469e-f9a1-d3ad053fe143"
      },
      "outputs": [
        {
          "output_type": "display_data",
          "data": {
            "text/plain": [
              "              t  \n",
              "d            ℯ   \n",
              "──(y(x)) = ──────\n",
              "dx         2⋅y(x)"
            ],
            "text/latex": "$\\displaystyle \\frac{d}{d x} y{\\left(x \\right)} = \\frac{e^{t}}{2 y{\\left(x \\right)}}$"
          },
          "metadata": {}
        },
        {
          "output_type": "display_data",
          "data": {
            "text/plain": [
              "⎡           ___________            ___________⎤\n",
              "⎢          ╱         t            ╱         t ⎥\n",
              "⎣y(x) = -╲╱  C₁ + x⋅ℯ  , y(x) = ╲╱  C₁ + x⋅ℯ  ⎦"
            ],
            "text/latex": "$\\displaystyle \\left[ y{\\left(x \\right)} = - \\sqrt{C_{1} + x e^{t}}, \\  y{\\left(x \\right)} = \\sqrt{C_{1} + x e^{t}}\\right]$"
          },
          "metadata": {}
        }
      ],
      "source": [
        "# defino las incognitas\n",
        "x = sympy.Symbol('x')\n",
        "y = sympy.Function('y')\n",
        "# expreso la ecuacion\n",
        "\n",
        "eq = sympy.Eq(y(x).diff(x), sympy.exp(t)/(2*y(x)))\n",
        "display(eq)\n",
        "display(sympy.dsolve(eq))"
      ]
    },
    {
      "cell_type": "markdown",
      "metadata": {
        "id": "hbcAakRD83kZ"
      },
      "source": [
        "$$y'=\\frac{e^yt}{e^y+t^2e^y}$$"
      ]
    },
    {
      "cell_type": "code",
      "execution_count": null,
      "metadata": {
        "id": "r-s2vOVP9qSb",
        "colab": {
          "base_uri": "https://localhost:8080/",
          "height": 92
        },
        "outputId": "7ae0dae1-8fc3-4640-8f2a-2b9dd6404e19"
      },
      "outputs": [
        {
          "output_type": "display_data",
          "data": {
            "text/plain": [
              "                  y(t)     \n",
              "d              t⋅ℯ         \n",
              "──(y(x)) = ────────────────\n",
              "dx          2  y(t)    y(t)\n",
              "           t ⋅ℯ     + ℯ    "
            ],
            "text/latex": "$\\displaystyle \\frac{d}{d x} y{\\left(x \\right)} = \\frac{t e^{y{\\left(t \\right)}}}{t^{2} e^{y{\\left(t \\right)}} + e^{y{\\left(t \\right)}}}$"
          },
          "metadata": {}
        },
        {
          "output_type": "display_data",
          "data": {
            "text/plain": [
              "             t⋅x  \n",
              "y(x) = C₁ + ──────\n",
              "             2    \n",
              "            t  + 1"
            ],
            "text/latex": "$\\displaystyle y{\\left(x \\right)} = C_{1} + \\frac{t x}{t^{2} + 1}$"
          },
          "metadata": {}
        }
      ],
      "source": [
        "# defino las incognitas\n",
        "t = sympy.Symbol('t')\n",
        "y = sympy.Function('y')\n",
        "# expreso la ecuacion\n",
        "\n",
        "eq = sympy.Eq(y(x).diff(x), (sympy.exp(y(t))*t)/(sympy.exp(y(t))+t**2*sympy.exp(y(t))))\n",
        "display(eq)\n",
        "display(sympy.dsolve(eq))"
      ]
    },
    {
      "cell_type": "markdown",
      "metadata": {
        "id": "yxcco7bi-Kmw"
      },
      "source": [
        "$$y'+y=y(te^(t^2))+1)$$\n",
        "$$y(0)=1$$"
      ]
    },
    {
      "cell_type": "code",
      "execution_count": null,
      "metadata": {
        "id": "IRmGPLYo_AF8",
        "colab": {
          "base_uri": "https://localhost:8080/",
          "height": 165
        },
        "outputId": "135515c2-0917-41f6-a863-9c9e609cca36"
      },
      "outputs": [
        {
          "output_type": "display_data",
          "data": {
            "text/plain": [
              "                  ⎛   ⎛ 2⎞    ⎞     \n",
              "       d          ⎜   ⎝t ⎠    ⎟     \n",
              "y(t) + ──(y(t)) = ⎝t⋅ℯ     + 1⎠⋅y(t)\n",
              "       dt                           "
            ],
            "text/latex": "$\\displaystyle y{\\left(t \\right)} + \\frac{d}{d t} y{\\left(t \\right)} = \\left(t e^{t^{2}} + 1\\right) y{\\left(t \\right)}$"
          },
          "metadata": {}
        },
        {
          "output_type": "stream",
          "name": "stdout",
          "text": [
            "\n",
            "\n"
          ]
        },
        {
          "output_type": "display_data",
          "data": {
            "text/plain": [
              "            ⎛ 2⎞\n",
              "            ⎝t ⎠\n",
              "           ℯ    \n",
              "           ─────\n",
              "             2  \n",
              "y(t) = C₁⋅ℯ     "
            ],
            "text/latex": "$\\displaystyle y{\\left(t \\right)} = C_{1} e^{\\frac{e^{t^{2}}}{2}}$"
          },
          "metadata": {}
        },
        {
          "output_type": "execute_result",
          "data": {
            "text/plain": [
              "               ⎛ 2⎞\n",
              "               ⎝t ⎠\n",
              "              ℯ    \n",
              "              ─────\n",
              "        -1/2    2  \n",
              "y(t) = ℯ    ⋅ℯ     "
            ],
            "text/latex": "$\\displaystyle y{\\left(t \\right)} = \\frac{e^{\\frac{e^{t^{2}}}{2}}}{e^{\\frac{1}{2}}}$"
          },
          "metadata": {},
          "execution_count": 30
        }
      ],
      "source": [
        "# defino las incognitas\n",
        "t = sympy.Symbol('t')\n",
        "y = sympy.Function('y')\n",
        "# expreso la ecuacion\n",
        "\n",
        "eq = sympy.Eq(y(t).diff(t)+y(t),y(t)*(t*sympy.exp(t**2)+1))\n",
        "display(eq)\n",
        "lin()\n",
        "display(sympy.dsolve(eq))\n",
        "\n",
        "sympy.dsolve(eq, y(t), ics={y(0):'1'})"
      ]
    },
    {
      "cell_type": "markdown",
      "metadata": {
        "id": "8APhFyaR1EST"
      },
      "source": [
        "**Ejemplo:**\n",
        "\n",
        "Para la ecuación diferencial $(6ty+2y^2-5)dt+(3t^2+4ty-6)dy=0$"
      ]
    },
    {
      "cell_type": "code",
      "execution_count": null,
      "metadata": {
        "id": "YvDsgzli1dS7",
        "colab": {
          "base_uri": "https://localhost:8080/",
          "height": 129
        },
        "outputId": "408ced82-d9d0-4ff0-895f-b09b8db5222b"
      },
      "outputs": [
        {
          "output_type": "display_data",
          "data": {
            "text/plain": [
              "              2          ⎛     2               ⎞ d       \n",
              "6⋅t⋅y(t) + 2⋅y (t) - 5 = ⎝- 3⋅t  - 4⋅t⋅y(t) + 6⎠⋅──(y(t))\n",
              "                                                 dt      "
            ],
            "text/latex": "$\\displaystyle 6 t y{\\left(t \\right)} + 2 y^{2}{\\left(t \\right)} - 5 = \\left(- 3 t^{2} - 4 t y{\\left(t \\right)} + 6\\right) \\frac{d}{d t} y{\\left(t \\right)}$"
          },
          "metadata": {}
        },
        {
          "output_type": "stream",
          "name": "stdout",
          "text": [
            "\n",
            "\n"
          ]
        },
        {
          "output_type": "display_data",
          "data": {
            "text/plain": [
              "⎡                  _________________________                          ________\n",
              "⎢                 ╱           4      2                               ╱        \n",
              "⎢         3⋅t   ╲╱  C₁⋅t + 9⋅t  + 4⋅t  + 36     3            3⋅t   ╲╱  C₁⋅t + \n",
              "⎢y(t) = - ─── - ──────────────────────────── + ───, y(t) = - ─── + ───────────\n",
              "⎣          4                4⋅t                2⋅t            4               \n",
              "\n",
              "_________________      ⎤\n",
              "   4      2            ⎥\n",
              "9⋅t  + 4⋅t  + 36     3 ⎥\n",
              "───────────────── + ───⎥\n",
              " 4⋅t                2⋅t⎦"
            ],
            "text/latex": "$\\displaystyle \\left[ y{\\left(t \\right)} = - \\frac{3 t}{4} - \\frac{\\sqrt{C_{1} t + 9 t^{4} + 4 t^{2} + 36}}{4 t} + \\frac{3}{2 t}, \\  y{\\left(t \\right)} = - \\frac{3 t}{4} + \\frac{\\sqrt{C_{1} t + 9 t^{4} + 4 t^{2} + 36}}{4 t} + \\frac{3}{2 t}\\right]$"
          },
          "metadata": {}
        }
      ],
      "source": [
        "# defino las incognitas\n",
        "t = sympy.Symbol('t')\n",
        "y = sympy.Function('y')\n",
        "# expreso la ecuacion\n",
        "\n",
        "eq = sympy.Eq((6*t*y(t)+2*y(t)**2-5),-(3*t**2+4*t*y(t)-6)*y(t).diff(t))\n",
        "display(eq)\n",
        "lin()\n",
        "display(sympy.dsolve(eq))\n"
      ]
    },
    {
      "cell_type": "markdown",
      "metadata": {
        "id": "1k5DpDri8VjJ"
      },
      "source": [
        "**Ejercicio** En este contexto, se pide resolver el EDO.\n",
        "\n",
        "$$\\frac{dy}{dx}+3x^2=6x^2$$"
      ]
    },
    {
      "cell_type": "code",
      "execution_count": null,
      "metadata": {
        "id": "xVAusMRb8jHn",
        "colab": {
          "base_uri": "https://localhost:8080/",
          "height": 266
        },
        "outputId": "4d5d215f-be71-4023-e1b6-4b03fa8cbc71"
      },
      "outputs": [
        {
          "output_type": "display_data",
          "data": {
            "text/plain": [
              "'a) Verificar que el factor integrante es:'"
            ],
            "application/vnd.google.colaboratory.intrinsic+json": {
              "type": "string"
            }
          },
          "metadata": {}
        },
        {
          "output_type": "display_data",
          "data": {
            "text/plain": [
              "'b) Luego siga el método dado arriba, para hallar la solución general.'"
            ],
            "application/vnd.google.colaboratory.intrinsic+json": {
              "type": "string"
            }
          },
          "metadata": {}
        },
        {
          "output_type": "display_data",
          "data": {
            "text/plain": [
              "'d) Usando SymPy y sus librerías de Python para comprobar que llegó al resultado correcto..'"
            ],
            "application/vnd.google.colaboratory.intrinsic+json": {
              "type": "string"
            }
          },
          "metadata": {}
        },
        {
          "output_type": "display_data",
          "data": {
            "text/plain": [
              "   2        d             2\n",
              "3⋅x ⋅y(x) + ──(y(x)) = 6⋅x \n",
              "            dx             "
            ],
            "text/latex": "$\\displaystyle 3 x^{2} y{\\left(x \\right)} + \\frac{d}{d x} y{\\left(x \\right)} = 6 x^{2}$"
          },
          "metadata": {}
        },
        {
          "output_type": "stream",
          "name": "stdout",
          "text": [
            "\n",
            "\n"
          ]
        },
        {
          "output_type": "display_data",
          "data": {
            "text/plain": [
              " ⎛ 3⎞\n",
              " ⎝x ⎠\n",
              "ℯ    "
            ],
            "text/latex": "$\\displaystyle e^{x^{3}}$"
          },
          "metadata": {}
        },
        {
          "output_type": "display_data",
          "data": {
            "text/plain": [
              "           ⎛ 3⎞    ⎛ 3⎞                  ⎛ 3⎞\n",
              "   2       ⎝x ⎠    ⎝x ⎠ d             2  ⎝x ⎠\n",
              "3⋅x ⋅y(x)⋅ℯ     + ℯ    ⋅──(y(x)) = 6⋅x ⋅ℯ    \n",
              "                        dx                   "
            ],
            "text/latex": "$\\displaystyle 3 x^{2} y{\\left(x \\right)} e^{x^{3}} + e^{x^{3}} \\frac{d}{d x} y{\\left(x \\right)} = 6 x^{2} e^{x^{3}}$"
          },
          "metadata": {}
        },
        {
          "output_type": "display_data",
          "data": {
            "text/plain": [
              "             3    \n",
              "           -x     \n",
              "y(x) = C₁⋅ℯ    + 2"
            ],
            "text/latex": "$\\displaystyle y{\\left(x \\right)} = C_{1} e^{- x^{3}} + 2$"
          },
          "metadata": {}
        },
        {
          "output_type": "display_data",
          "data": {
            "text/plain": [
              "'e)\\tCon la solución encontrada en términos generales, se le pide hallar alguna solución en particular con condiciones iniciales y(0)=1'"
            ],
            "application/vnd.google.colaboratory.intrinsic+json": {
              "type": "string"
            }
          },
          "metadata": {}
        },
        {
          "output_type": "display_data",
          "data": {
            "text/plain": [
              "              3\n",
              "            -x \n",
              "y(x) = 2 - ℯ   "
            ],
            "text/latex": "$\\displaystyle y{\\left(x \\right)} = 2 - e^{- x^{3}}$"
          },
          "metadata": {}
        }
      ],
      "source": [
        "# defino las incognitas\n",
        "x = sympy.Symbol('x')\n",
        "y = sympy.Function('y')\n",
        "# expreso la ecuacion\n",
        "#\n",
        "eq = sympy.Eq(y(x).diff(x)+3*x**2*y(x),6*x**2)\n",
        "display(\"a) Verificar que el factor integrante es:\")\n",
        "display(\"b) Luego siga el método dado arriba, para hallar la solución general.\")\n",
        "display(\"d) Usando SymPy y sus librerías de Python para comprobar que llegó al resultado correcto..\")\n",
        "factor = sympy.exp(sympy.integrate(3*x**2,x))\n",
        "display(eq)\n",
        "lin()\n",
        "display(factor)\n",
        "eq_2 = sympy.Eq(factor*y(x).diff(x)+3*x**2*sympy.exp(x**3)*y(x),6*x**2*factor)\n",
        "display(eq_2)\n",
        "display(sympy.dsolve(eq_2))\n",
        "\n",
        "eq_3 = sympy.dsolve(eq, y(x), ics={y(0):'1'})\n",
        "display(\"e)\tCon la solución encontrada en términos generales, se le pide hallar alguna solución en particular con condiciones iniciales y(0)=1\")\n",
        "display(eq_3)\n"
      ]
    },
    {
      "cell_type": "markdown",
      "source": [
        "**c)Comprobar con Wolfram Alpha que llegó al resultado correcto.**"
      ],
      "metadata": {
        "id": "vdY_zEHryA7w"
      }
    },
    {
      "cell_type": "code",
      "source": [
        "HTML('<iframe src=\"https://www.wolframalpha.com/input?i=dy%2Fdx%2B3x%5E2y%3D6x%5E2&lang=es\" width=\"1000\" height=\"400\"></iframe>')"
      ],
      "metadata": {
        "colab": {
          "base_uri": "https://localhost:8080/",
          "height": 460
        },
        "id": "PQ90hMIEyL6w",
        "outputId": "710bacdb-e4c9-48fc-a4bd-28bd703fe84a"
      },
      "execution_count": null,
      "outputs": [
        {
          "output_type": "stream",
          "name": "stderr",
          "text": [
            "/usr/local/lib/python3.7/dist-packages/IPython/core/display.py:701: UserWarning: Consider using IPython.display.IFrame instead\n",
            "  warnings.warn(\"Consider using IPython.display.IFrame instead\")\n"
          ]
        },
        {
          "output_type": "execute_result",
          "data": {
            "text/plain": [
              "<IPython.core.display.HTML object>"
            ],
            "text/html": [
              "<iframe src=\"https://www.wolframalpha.com/input?i=dy%2Fdx%2B3x%5E2y%3D6x%5E2&lang=es\" width=\"1000\" height=\"400\"></iframe>"
            ]
          },
          "metadata": {},
          "execution_count": 33
        }
      ]
    },
    {
      "cell_type": "code",
      "source": [
        "display(\"f) Graficar el haz de curvas solución que se genera, marcando la particular.\")\n",
        "\n",
        "\n",
        "\n",
        "x=np.linspace(-1,10,500)\n",
        "fig = plt.figure(figsize=(8,4))\n",
        "for C in range(-9,9,1):\n",
        "  y=C*np.exp(-x**3)+2\n",
        "  plt.plot(x,y,label=\"Para C=%d\"%C)\n",
        "  plt.xlim(-6,6)\n",
        "  plt.grid(True)\n",
        "  plt.legend(loc=1)\n",
        "\n",
        "\n",
        "plt.show()\n"
      ],
      "metadata": {
        "colab": {
          "base_uri": "https://localhost:8080/",
          "height": 327
        },
        "id": "nZeUYC1Gz1rx",
        "outputId": "e67eddd3-af1a-438c-fb11-1f7656c41d2c"
      },
      "execution_count": null,
      "outputs": [
        {
          "output_type": "display_data",
          "data": {
            "text/plain": [
              "'f) Graficar el haz de curvas solución que se genera, marcando la particular.'"
            ],
            "application/vnd.google.colaboratory.intrinsic+json": {
              "type": "string"
            }
          },
          "metadata": {}
        },
        {
          "output_type": "display_data",
          "data": {
            "text/plain": [
              "<Figure size 576x288 with 1 Axes>"
            ],
            "image/png": "[encoded data removed]"
          },
          "metadata": {
            "needs_background": "light"
          }
        }
      ]
    },
    {
      "cell_type": "markdown",
      "source": [
        "**Ejercicio**\n",
        "\n",
        "*Hallar la solución de la EDO*\n",
        "$$\\frac{dy}{dx}=\\frac{1}{2}(y^2-1)$$ , pero que cumpla con la condicíon inicial y(0)=2"
      ],
      "metadata": {
        "id": "JmbcccKE5FIK"
      }
    },
    {
      "cell_type": "code",
      "source": [
        "# defino las incognitas\n",
        "x = sympy.Symbol('x')\n",
        "y = sympy.Function('y')\n",
        "# expreso la ecuacion\n",
        "#\n",
        "eq = sympy.Eq(y(x).diff(x),1/2*(y(x)**2-1))\n",
        "display(eq)\n",
        "display(\"a)Tal como se realizó en clases y c)\tMediante las librerías de Python\")\n",
        "display(sympy.dsolve(eq))\n",
        "display(\"d)\tGraficar la curva solución que cumple con y(0) =2\")\n",
        "\n",
        "x=np.linspace(-1,10,500)\n",
        "fig = plt.figure(figsize=(8,4))\n",
        "for C in range(-9,9,1):\n",
        "  y=1/(np.tanh(C-x/2))\n",
        "  plt.plot(x,y,label=\"Para C=%d\"%C)\n",
        "  plt.xlim(-6,6)\n",
        "  plt.grid(True)\n",
        "  plt.legend(loc=1)\n",
        "\n",
        "\n",
        "plt.show()\n",
        "\n"
      ],
      "metadata": {
        "colab": {
          "base_uri": "https://localhost:8080/",
          "height": 456
        },
        "id": "RBJyiCo65fmg",
        "outputId": "c0e883cc-4a49-4ede-d951-fbb7fecfe46f"
      },
      "execution_count": null,
      "outputs": [
        {
          "output_type": "display_data",
          "data": {
            "text/plain": [
              "d               2         \n",
              "──(y(x)) = 0.5⋅y (x) - 0.5\n",
              "dx                        "
            ],
            "text/latex": "$\\displaystyle \\frac{d}{d x} y{\\left(x \\right)} = 0.5 y^{2}{\\left(x \\right)} - 0.5$"
          },
          "metadata": {}
        },
        {
          "output_type": "display_data",
          "data": {
            "text/plain": [
              "'a)Tal como se realizó en clases y c)\\tMediante las librerías de Python'"
            ],
            "application/vnd.google.colaboratory.intrinsic+json": {
              "type": "string"
            }
          },
          "metadata": {}
        },
        {
          "output_type": "display_data",
          "data": {
            "text/plain": [
              "           1.0     \n",
              "y(x) = ────────────\n",
              "           ⎛     x⎞\n",
              "       tanh⎜C₁ - ─⎟\n",
              "           ⎝     2⎠"
            ],
            "text/latex": "$\\displaystyle y{\\left(x \\right)} = \\frac{1.0}{\\tanh{\\left(C_{1} - \\frac{x}{2} \\right)}}$"
          },
          "metadata": {}
        },
        {
          "output_type": "display_data",
          "data": {
            "text/plain": [
              "'d)\\tGraficar la curva solución que cumple con y(0) =2'"
            ],
            "application/vnd.google.colaboratory.intrinsic+json": {
              "type": "string"
            }
          },
          "metadata": {}
        },
        {
          "output_type": "stream",
          "name": "stderr",
          "text": [
            "/usr/local/lib/python3.7/dist-packages/ipykernel_launcher.py:15: RuntimeWarning: divide by zero encountered in true_divide\n",
            "  from ipykernel import kernelapp as app\n"
          ]
        },
        {
          "output_type": "display_data",
          "data": {
            "text/plain": [
              "<Figure size 576x288 with 1 Axes>"
            ],
            "image/png": "[encoded data removed]"
          },
          "metadata": {
            "needs_background": "light"
          }
        }
      ]
    },
    {
      "cell_type": "markdown",
      "source": [
        "**Soluciones analíticas con Python**\n",
        "*SymPy proporciona una forma genérica para resolver Ecuaciones diferenciales Ordinarias (EDO), se llama sympy.dsolve, que permite encontrar soluciones analíticas. Hay que recordar que, en cambio, no todas las EDOs se pueden resolver analíticamente.\n",
        "Dada la  \n",
        "*\n",
        "$$\\frac{dy(x)}{dx}=[y(x)-1]^2+[x-1]^2-1$$"
      ],
      "metadata": {
        "id": "RZcNNvyb7rDQ"
      }
    },
    {
      "cell_type": "code",
      "source": [
        "# defino las incognitas\n",
        "x = sympy.Symbol('x')\n",
        "y = sympy.Function('y')\n",
        "# expreso la ecuacion\n",
        "#\n",
        "eq = sympy.Eq(y(x).diff(x),(y(x)-1)**2+(x-1)**2-1)\n",
        "display(eq)\n",
        "display(\"a)Tal como se realizó en clases y c)\tMediante las librerías de Python\")\n",
        "display(sympy.dsolve(eq))\n",
        "\n",
        "eq_3 = sympy.dsolve(eq, y(x), ics={y(1):'1'})\n",
        "\n",
        "display(\"d)\tResolver la EDO para la condición inicial y(1)=1, visualizar sus resultados en Python.\" )\n",
        "display(eq_3)\n",
        "\n",
        "def f(x,y):\n",
        "  return (y-1)**2+(x-1)**2-1\n",
        "N=20\n",
        "x=np.linspace(-3,3,N)\n",
        "y=np.linspace(-15,15,N)\n",
        "X,Y = np.meshgrid( x, y)\n",
        "U=1; V = f(X,Y);\n",
        "U2, V2 = U/np.sqrt(U**2+V**2), V/np.sqrt(U**2+V**2)\n",
        "flig = plt.figure(figsize=(8,8))\n",
        "plt.quiver( X,Y,U2, V2, color='k')\n",
        "plt.grid(False)\n",
        "\n",
        "plt.title(r\"Campo de pendientes $y'= (y-1)^2+(x-1)^2-1$\")\n",
        "\n"
      ],
      "metadata": {
        "colab": {
          "base_uri": "https://localhost:8080/",
          "height": 819
        },
        "id": "UZXUhIZp7_QO",
        "outputId": "8ea77e28-b6f7-4337-963e-01d569ac7483"
      },
      "execution_count": null,
      "outputs": [
        {
          "output_type": "display_data",
          "data": {
            "text/plain": [
              "d                 2             2    \n",
              "──(y(x)) = (x - 1)  + (y(x) - 1)  - 1\n",
              "dx                                   "
            ],
            "text/latex": "$\\displaystyle \\frac{d}{d x} y{\\left(x \\right)} = \\left(x - 1\\right)^{2} + \\left(y{\\left(x \\right)} - 1\\right)^{2} - 1$"
          },
          "metadata": {}
        },
        {
          "output_type": "display_data",
          "data": {
            "text/plain": [
              "'a)Tal como se realizó en clases y c)\\tMediante las librerías de Python'"
            ],
            "application/vnd.google.colaboratory.intrinsic+json": {
              "type": "string"
            }
          },
          "metadata": {}
        },
        {
          "output_type": "display_data",
          "data": {
            "text/plain": [
              "                                                                  3 ⎛        ⎛\n",
              "         ⎛  2           ⎞    2 ⎛         ⎛  2           ⎞    ⎞   x ⋅⎝-2⋅C₁ + ⎝\n",
              "y(x) = x⋅⎝C₁  - 2⋅C₁ + 1⎠ + x ⋅⎝(C₁ - 1)⋅⎝C₁  - 2⋅C₁ + 1⎠ - 1⎠ + ─────────────\n",
              "                                                                              \n",
              "\n",
              "  2           ⎞ ⎛  2                    2    ⎞    ⎞    4 ⎛      2             \n",
              "C₁  - 2⋅C₁ + 1⎠⋅⎝C₁  - 2⋅C₁ + 2⋅(C₁ - 1)  + 1⎠ + 3⎠   x ⋅⎝- 2⋅C₁  + 5⋅C₁ - 2⋅(\n",
              "─────────────────────────────────────────────────── + ────────────────────────\n",
              "                  3                                                           \n",
              "\n",
              "       2   ⎛  2           ⎞ ⎛           ⎛  2           ⎞            ⎛  2      \n",
              "C₁ - 1)  + ⎝C₁  - 2⋅C₁ + 1⎠⋅⎝3⋅(C₁ - 1)⋅⎝C₁  - 2⋅C₁ + 1⎠ + (C₁ - 1)⋅⎝C₁  - 2⋅C\n",
              "──────────────────────────────────────────────────────────────────────────────\n",
              "                                         6                                    \n",
              "\n",
              "              2    ⎞    ⎞    ⎞    5 ⎛    2                     ⎛  2           \n",
              "₁ + 2⋅(C₁ - 1)  + 1⎠ - 1⎠ - 3⎠   x ⋅⎝2⋅C₁  - 4⋅C₁ + (9 - 8⋅C₁)⋅⎝C₁  - 2⋅C₁ + 1\n",
              "────────────────────────────── + ─────────────────────────────────────────────\n",
              "                                                                              \n",
              "\n",
              "⎞             2              ⎛  2           ⎞              ⎛  2               \n",
              "⎠ + 2⋅(C₁ - 1)  - 6⋅(C₁ - 1)⋅⎝C₁  - 2⋅C₁ + 1⎠ - 2⋅(C₁ - 1)⋅⎝C₁  - 2⋅C₁ + 2⋅(C₁\n",
              "──────────────────────────────────────────────────────────────────────────────\n",
              "                                                                              \n",
              "\n",
              "     2    ⎞   ⎛  2           ⎞ ⎛                   ⎛           ⎛  2           \n",
              " - 1)  + 1⎠ + ⎝C₁  - 2⋅C₁ + 1⎠⋅⎝-8⋅C₁ + 2⋅(C₁ - 1)⋅⎝3⋅(C₁ - 1)⋅⎝C₁  - 2⋅C₁ + 1\n",
              "──────────────────────────────────────────────────────────────────────────────\n",
              "                                 30                                           \n",
              "\n",
              "⎞            ⎛  2                    2    ⎞    ⎞     ⎛  2           ⎞ ⎛    2  \n",
              "⎠ + (C₁ - 1)⋅⎝C₁  - 2⋅C₁ + 2⋅(C₁ - 1)  + 1⎠ - 1⎠ + 2⋅⎝C₁  - 2⋅C₁ + 1⎠⋅⎝2⋅C₁  -\n",
              "──────────────────────────────────────────────────────────────────────────────\n",
              "                                                                              \n",
              "\n",
              "                  2    ⎞    ⎞    ⎞             \n",
              " 4⋅C₁ + 7⋅(C₁ - 1)  + 2⎠ + 9⎠ + 8⎠         ⎛ 6⎞\n",
              "────────────────────────────────── + C₁ + O⎝x ⎠\n",
              "                                               "
            ],
            "text/latex": "$\\displaystyle y{\\left(x \\right)} = x \\left(C_{1}^{2} - 2 C_{1} + 1\\right) + x^{2} \\left(\\left(C_{1} - 1\\right) \\left(C_{1}^{2} - 2 C_{1} + 1\\right) - 1\\right) + \\frac{x^{3} \\left(- 2 C_{1} + \\left(C_{1}^{2} - 2 C_{1} + 1\\right) \\left(C_{1}^{2} - 2 C_{1} + 2 \\left(C_{1} - 1\\right)^{2} + 1\\right) + 3\\right)}{3} + \\frac{x^{4} \\left(- 2 C_{1}^{2} + 5 C_{1} - 2 \\left(C_{1} - 1\\right)^{2} + \\left(C_{1}^{2} - 2 C_{1} + 1\\right) \\left(3 \\left(C_{1} - 1\\right) \\left(C_{1}^{2} - 2 C_{1} + 1\\right) + \\left(C_{1} - 1\\right) \\left(C_{1}^{2} - 2 C_{1} + 2 \\left(C_{1} - 1\\right)^{2} + 1\\right) - 1\\right) - 3\\right)}{6} + \\frac{x^{5} \\left(2 C_{1}^{2} - 4 C_{1} + \\left(9 - 8 C_{1}\\right) \\left(C_{1}^{2} - 2 C_{1} + 1\\right) + 2 \\left(C_{1} - 1\\right)^{2} - 6 \\left(C_{1} - 1\\right) \\left(C_{1}^{2} - 2 C_{1} + 1\\right) - 2 \\left(C_{1} - 1\\right) \\left(C_{1}^{2} - 2 C_{1} + 2 \\left(C_{1} - 1\\right)^{2} + 1\\right) + \\left(C_{1}^{2} - 2 C_{1} + 1\\right) \\left(- 8 C_{1} + 2 \\left(C_{1} - 1\\right) \\left(3 \\left(C_{1} - 1\\right) \\left(C_{1}^{2} - 2 C_{1} + 1\\right) + \\left(C_{1} - 1\\right) \\left(C_{1}^{2} - 2 C_{1} + 2 \\left(C_{1} - 1\\right)^{2} + 1\\right) - 1\\right) + 2 \\left(C_{1}^{2} - 2 C_{1} + 1\\right) \\left(2 C_{1}^{2} - 4 C_{1} + 7 \\left(C_{1} - 1\\right)^{2} + 2\\right) + 9\\right) + 8\\right)}{30} + C_{1} + O\\left(x^{6}\\right)$"
          },
          "metadata": {}
        },
        {
          "output_type": "display_data",
          "data": {
            "text/plain": [
              "'d)\\tResolver la EDO para la condición inicial y(1)=1, visualizar sus resultados en Python.'"
            ],
            "application/vnd.google.colaboratory.intrinsic+json": {
              "type": "string"
            }
          },
          "metadata": {}
        },
        {
          "output_type": "display_data",
          "data": {
            "text/plain": [
              "                    3            5            \n",
              "           2⋅(x - 1)    4⋅(x - 1)         ⎛ 6⎞\n",
              "y(x) = 2 + ────────── - ────────── - x + O⎝x ⎠\n",
              "               3            15                "
            ],
            "text/latex": "$\\displaystyle y{\\left(x \\right)} = 2 + \\frac{2 \\left(x - 1\\right)^{3}}{3} - \\frac{4 \\left(x - 1\\right)^{5}}{15} - x + O\\left(x^{6}\\right)$"
          },
          "metadata": {}
        },
        {
          "output_type": "execute_result",
          "data": {
            "text/plain": [
              "Text(0.5, 1.0, \"Campo de pendientes $y'= (y-1)^2+(x-1)^2-1$\")"
            ]
          },
          "metadata": {},
          "execution_count": 36
        },
        {
          "output_type": "display_data",
          "data": {
            "text/plain": [
              "<Figure size 576x576 with 1 Axes>"
            ],
            "image/png": "[encoded data removed]"
          },
          "metadata": {
            "needs_background": "light"
          }
        }
      ]
    },
    {
      "cell_type": "code",
      "source": [
        "HTML('<iframe src=\"https://www.wolframalpha.com/input?i=dy%2Fdx%3D%28y-1%29%5E2%2B%28x-1%29%5E2-1&lang=es\" width=\"1000\" height=\"400\"></iframe>')"
      ],
      "metadata": {
        "colab": {
          "base_uri": "https://localhost:8080/",
          "height": 460
        },
        "id": "I0j59PFv__Ov",
        "outputId": "df88e613-6108-45e3-e637-8ce5ed810298"
      },
      "execution_count": null,
      "outputs": [
        {
          "output_type": "stream",
          "name": "stderr",
          "text": [
            "/usr/local/lib/python3.7/dist-packages/IPython/core/display.py:701: UserWarning: Consider using IPython.display.IFrame instead\n",
            "  warnings.warn(\"Consider using IPython.display.IFrame instead\")\n"
          ]
        },
        {
          "output_type": "execute_result",
          "data": {
            "text/plain": [
              "<IPython.core.display.HTML object>"
            ],
            "text/html": [
              "<iframe src=\"https://www.wolframalpha.com/input?i=dy%2Fdx%3D%28y-1%29%5E2%2B%28x-1%29%5E2-1&lang=es\" width=\"1000\" height=\"400\"></iframe>"
            ]
          },
          "metadata": {},
          "execution_count": 37
        }
      ]
    }
  ],
  "metadata": {
    "colab": {
      "provenance": [],
      "authorship_tag": "ABX9TyODcEDIYjUACyjm/bOSqy0h"
    },
    "kernelspec": {
      "display_name": "Python 3",
      "name": "python3"
    },
    "language_info": {
      "name": "python"
    }
  },
  "nbformat": 4,
  "nbformat_minor": 0
}